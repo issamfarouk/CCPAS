{
  "cells": [
    {
      "cell_type": "code",
      "execution_count": 3,
      "metadata": {
        "id": "XBCvnu_mfXLt"
      },
      "outputs": [],
      "source": [
        "import pandas as pd\n",
        "import matplotlib.pyplot as plt\n",
        "import seaborn as sns\n",
        "import numpy as np\n",
        "%matplotlib inline"
      ]
    },
    {
      "cell_type": "code",
      "execution_count": null,
      "metadata": {
        "colab": {
          "base_uri": "https://localhost:8080/"
        },
        "id": "FC_5gv-1f3Sy",
        "outputId": "607c2961-8522-4e7e-b047-2a13c4b2b50a"
      },
      "outputs": [],
      "source": [
        "from google.colab import drive\n",
        "drive.mount('/content/drive')"
      ]
    },
    {
      "cell_type": "code",
      "execution_count": null,
      "metadata": {
        "id": "DyhTx186f6I3"
      },
      "outputs": [],
      "source": [
        "df=pd.read_csv('/content/drive/MyDrive/Project/WA_Fn-UseC_-Telco-Customer-Churn.csv')"
      ]
    },
    {
      "cell_type": "markdown",
      "metadata": {
        "id": "Ya_qFf5ZxLVz"
      },
      "source": [
        "## Business Understanding"
      ]
    },
    {
      "cell_type": "markdown",
      "metadata": {
        "id": "A0yK4OwgxbKu"
      },
      "source": [
        "Churn Prediction\n",
        "\n",
        "* identifying customers who are likely to cancel their contracts soon.\n",
        "\n",
        "* If the company can do that, it can handle users before churn\n",
        "\n",
        "* The target variable that we want to predict is categorical and has only two possible outcomes: churn or not churn (Binary Classification).\n",
        "\n",
        "* We also would like to understand why the model thinks our customers churn, and for that, we need to be able to interpret the model’s predictions.\n",
        "\n",
        "* The dataset has the following information:\n",
        "\n",
        "  1. Services of the customers: phone; multiple lines; internet; tech support and extra services such as online security, backup, device protection, and TV streaming\n",
        "  2. Account information: how long they have been clients, type of contract, type of payment method\n",
        "  3. Charges: how much the client was charged in the past month and in total\n",
        "  4. Demographic information: gender, age, and whether they have dependents or a partner\n",
        "  5. Churn: yes/no, whether the customer left the company within the past month"
      ]
    },
    {
      "cell_type": "markdown",
      "metadata": {
        "id": "9da1erOsgbQs"
      },
      "source": [
        "# EDA\n"
      ]
    },
    {
      "cell_type": "code",
      "execution_count": null,
      "metadata": {
        "colab": {
          "base_uri": "https://localhost:8080/",
          "height": 342
        },
        "id": "QKLJY5zRggy1",
        "outputId": "d64faf78-3d1f-41fd-f946-f679561cec63"
      },
      "outputs": [],
      "source": [
        "df.head()"
      ]
    },
    {
      "cell_type": "code",
      "execution_count": null,
      "metadata": {
        "colab": {
          "base_uri": "https://localhost:8080/"
        },
        "id": "ctYAG0F8g8dG",
        "outputId": "b8e07261-d67b-4355-d081-3ff77cbb6093"
      },
      "outputs": [],
      "source": [
        "df.info()"
      ]
    },
    {
      "cell_type": "code",
      "execution_count": null,
      "metadata": {
        "colab": {
          "base_uri": "https://localhost:8080/"
        },
        "id": "QHSdn7QxhMfM",
        "outputId": "0b1a2e64-e48b-4ba2-f431-50d1d9401787"
      },
      "outputs": [],
      "source": [
        "df.shape"
      ]
    },
    {
      "cell_type": "code",
      "execution_count": null,
      "metadata": {
        "colab": {
          "base_uri": "https://localhost:8080/"
        },
        "id": "xMPED7Exhtu7",
        "outputId": "fe466373-50db-4046-e1b5-0da247ff0b29"
      },
      "outputs": [],
      "source": [
        "df.columns"
      ]
    },
    {
      "cell_type": "code",
      "execution_count": null,
      "metadata": {
        "colab": {
          "base_uri": "https://localhost:8080/",
          "height": 300
        },
        "id": "tsA36Pnzblqc",
        "outputId": "7de988b6-de0a-4c3b-a9d7-f16f9be39160"
      },
      "outputs": [],
      "source": [
        "df.describe()"
      ]
    },
    {
      "cell_type": "code",
      "execution_count": null,
      "metadata": {
        "colab": {
          "base_uri": "https://localhost:8080/"
        },
        "id": "u_Ug-G0NblrT",
        "outputId": "55d0d76e-5c9a-4c49-f0dd-0ec73b5addd2"
      },
      "outputs": [],
      "source": [
        "df.isna().sum().sum()"
      ]
    },
    {
      "cell_type": "code",
      "execution_count": null,
      "metadata": {
        "colab": {
          "base_uri": "https://localhost:8080/"
        },
        "id": "0JQZN2nXybP8",
        "outputId": "3afc8c0f-db9c-4f48-d8b7-7ca402b58125"
      },
      "outputs": [],
      "source": [
        "df['TotalCharges'].isna().sum()"
      ]
    },
    {
      "cell_type": "markdown",
      "metadata": {
        "id": "aGjloIghb2C0"
      },
      "source": [
        "Our Data Didn't have any Null Values\n"
      ]
    },
    {
      "cell_type": "code",
      "execution_count": null,
      "metadata": {
        "colab": {
          "base_uri": "https://localhost:8080/",
          "height": 458
        },
        "id": "WDz6AjtzcP_v",
        "outputId": "5641ba0a-543a-451e-85c9-c359a1a675e2"
      },
      "outputs": [],
      "source": [
        "df.duplicated()"
      ]
    },
    {
      "cell_type": "code",
      "execution_count": null,
      "metadata": {
        "colab": {
          "base_uri": "https://localhost:8080/"
        },
        "id": "KkdTU6CYblva",
        "outputId": "af96e31d-b442-441a-828f-d65b13f6fc99"
      },
      "outputs": [],
      "source": [
        "df.duplicated().sum()"
      ]
    },
    {
      "cell_type": "code",
      "execution_count": null,
      "metadata": {
        "colab": {
          "base_uri": "https://localhost:8080/",
          "height": 643
        },
        "id": "o1UnE3oIcTlu",
        "outputId": "fb646209-dae6-41b3-93af-3dade00e3fa6"
      },
      "outputs": [],
      "source": [
        "sns.boxplot(data=df['MonthlyCharges'],palette='rainbow',orient='h')"
      ]
    },
    {
      "cell_type": "code",
      "execution_count": null,
      "metadata": {
        "colab": {
          "base_uri": "https://localhost:8080/",
          "height": 643
        },
        "id": "XOPfoZBycnM8",
        "outputId": "2cf82e11-b40d-42b1-ce6b-1af0b8812667"
      },
      "outputs": [],
      "source": [
        "sns.boxplot(data=df['tenure'],palette='rainbow',orient='h')"
      ]
    },
    {
      "cell_type": "markdown",
      "metadata": {
        "id": "b5Jr4rMwc6XU"
      },
      "source": [
        "We Don't Have Any Outliers in our Data\n"
      ]
    },
    {
      "cell_type": "code",
      "execution_count": null,
      "metadata": {
        "colab": {
          "base_uri": "https://localhost:8080/",
          "height": 1000
        },
        "collapsed": true,
        "id": "ou0zVEgGeJh9",
        "outputId": "38780d74-6add-423b-ca92-468e904b87d8"
      },
      "outputs": [],
      "source": [
        "# Set up the grid for plotting\n",
        "fig, axes = plt.subplots(4, 2, figsize=(16, 16))\n",
        "sns.set_style('whitegrid')\n",
        "fig.suptitle(\"Count plot for various categorical features\")\n",
        "\n",
        "# Use a Seaborn color palette\n",
        "custom_palette = 'Set2'  # You can change this to any other palette\n",
        "\n",
        "# Update count plots to include hue and disable legend\n",
        "sns.countplot(ax=axes[0, 0], data=df, x='DeviceProtection', palette=custom_palette, hue='DeviceProtection', legend=False)\n",
        "sns.countplot(ax=axes[0, 1], data=df, x='TechSupport', palette=custom_palette, hue='TechSupport', legend=False)\n",
        "sns.countplot(ax=axes[1, 0], data=df, x='StreamingTV', palette=custom_palette, hue='StreamingTV', legend=False)\n",
        "sns.countplot(ax=axes[1, 1], data=df, x='StreamingMovies', palette=custom_palette, hue='StreamingMovies', legend=False)\n",
        "sns.countplot(ax=axes[2, 0], data=df, x='Contract', palette=custom_palette, hue='Contract', legend=False)\n",
        "sns.countplot(ax=axes[2, 1], data=df, x='PaperlessBilling', palette=custom_palette, hue='PaperlessBilling', legend=False)\n",
        "sns.countplot(ax=axes[3, 0], data=df, x='PaymentMethod', palette=custom_palette, hue='PaymentMethod', legend=False)\n",
        "sns.countplot(ax=axes[3, 1], data=df, x='Churn', palette=custom_palette, hue='Churn', legend=False)\n",
        "\n",
        "plt.tight_layout(rect=[0, 0, 1, 0.96])  # Adjust layout to fit the title\n",
        "plt.show()"
      ]
    },
    {
      "cell_type": "markdown",
      "metadata": {
        "id": "zo2EYpoA_dox"
      },
      "source": [
        "Some analysis"
      ]
    },
    {
      "cell_type": "code",
      "execution_count": null,
      "metadata": {
        "colab": {
          "base_uri": "https://localhost:8080/",
          "height": 499
        },
        "id": "_Iv-yAQR_RQ5",
        "outputId": "53a07bb3-8116-4eb8-e41d-dc320ec40968"
      },
      "outputs": [],
      "source": [
        "# Churn by contract type\n",
        "plt.figure(figsize=(6, 4))\n",
        "sns.countplot(data=df, x='Contract', hue='Churn', palette='Set2')\n",
        "plt.title('Churn by Contract Type')\n",
        "plt.xlabel('Contract Type')\n",
        "plt.ylabel('Count')\n",
        "plt.legend(title='Churn')\n",
        "plt.show()"
      ]
    },
    {
      "cell_type": "markdown",
      "metadata": {
        "id": "89b4bTh4Fsjw"
      },
      "source": [
        "Contract Type: Customers with month-to-month contracts had a significantly higher churn rate compared to those on one-year or two-year contracts. This suggests that customers with more flexibility in their contracts are more likely to leave, possibly due to lack of commitment."
      ]
    },
    {
      "cell_type": "code",
      "execution_count": null,
      "metadata": {
        "colab": {
          "base_uri": "https://localhost:8080/",
          "height": 499
        },
        "id": "UV2pA8dx_izs",
        "outputId": "108fb3aa-c867-49c9-f8b3-5bc32751c566"
      },
      "outputs": [],
      "source": [
        "# Churn by Internet Service Type\n",
        "plt.figure(figsize=(6, 4))\n",
        "sns.countplot(data=df, x='InternetService', hue='Churn', palette='Set3')\n",
        "plt.title('Churn by Internet Service Type')\n",
        "plt.xlabel('Internet Service Type')\n",
        "plt.ylabel('Count')\n",
        "plt.legend(title='Churn')\n",
        "plt.show()"
      ]
    },
    {
      "cell_type": "markdown",
      "metadata": {
        "id": "uru3EKEMFzQ5"
      },
      "source": [
        "Internet Service Type: Customers using DSL (Digital Subscriber Line) services had a lower churn rate compared to those using fiber optic services. While fiber optic offers faster speeds, it may also be more expensive, prompting customers to churn when they find more affordable options."
      ]
    },
    {
      "cell_type": "code",
      "execution_count": null,
      "metadata": {
        "colab": {
          "base_uri": "https://localhost:8080/",
          "height": 569
        },
        "id": "6Yhzop6e_qDJ",
        "outputId": "c3caf7e1-e3c6-4d54-c2ac-d0f5098b49a9"
      },
      "outputs": [],
      "source": [
        "# Churn by Tenure\n",
        "plt.figure(figsize=(6, 4))\n",
        "sns.histplot(data=df, x='tenure', hue='Churn', multiple='stack', palette='coolwarm', bins=30)\n",
        "plt.title('Churn by Tenure')\n",
        "plt.xlabel('Tenure (Months)')\n",
        "plt.ylabel('Count')\n",
        "plt.show()"
      ]
    },
    {
      "cell_type": "markdown",
      "metadata": {
        "id": "RW8TkWnoGCic"
      },
      "source": [
        "Customer Tenure: Long-term customers (those with more than two years of tenure) had a significantly lower churn rate than new customers. This suggests that once customers stay beyond a certain point, they are more likely to remain loyal to the company. Efforts to engage and retain customers during their first few months could be crucial."
      ]
    },
    {
      "cell_type": "code",
      "execution_count": null,
      "metadata": {
        "colab": {
          "base_uri": "https://localhost:8080/",
          "height": 622
        },
        "id": "6U_RQrXQ_xbi",
        "outputId": "2d6576fd-8295-4af1-b778-c1514f1af06c"
      },
      "outputs": [],
      "source": [
        "# Churn by Payment Method\n",
        "plt.figure(figsize=(6, 4))\n",
        "sns.countplot(data=df, x='PaymentMethod', hue='Churn', palette='Set1')\n",
        "plt.title('Churn by Payment Method')\n",
        "plt.xlabel('Payment Method')\n",
        "plt.ylabel('Count')\n",
        "plt.xticks(rotation=45)\n",
        "plt.legend(title='Churn')\n",
        "plt.show()"
      ]
    },
    {
      "cell_type": "markdown",
      "metadata": {
        "id": "SaRTTye8HELQ"
      },
      "source": [
        "Customers using automatic payment methods have lower churn rates, while those using Electronic Check experience higher churn, indicating that improving payment convenience can enhance customer retention."
      ]
    },
    {
      "cell_type": "code",
      "execution_count": null,
      "metadata": {
        "colab": {
          "base_uri": "https://localhost:8080/",
          "height": 499
        },
        "id": "RXKu8WGx_3vv",
        "outputId": "9450b1e2-092e-4ce5-bc2d-114280bf2a86"
      },
      "outputs": [],
      "source": [
        "# Churn by Partner and Dependent Status\n",
        "plt.figure(figsize=(6, 4))\n",
        "sns.countplot(data=df, x='Partner', hue='Dependents', palette='muted')\n",
        "plt.title('Churn by Partner and Dependent Status')\n",
        "plt.xlabel('Partner')\n",
        "plt.ylabel('Count')\n",
        "plt.legend(title='Dependents')\n",
        "plt.show()"
      ]
    },
    {
      "cell_type": "markdown",
      "metadata": {
        "id": "kvuTaj3FHLOh"
      },
      "source": [
        "Partner and Dependent Status: Customers without partners or dependents churned at a higher rate. This could imply that customers living alone or with fewer obligations might be more price-sensitive or more likely to switch services frequently."
      ]
    },
    {
      "cell_type": "code",
      "execution_count": null,
      "metadata": {
        "colab": {
          "base_uri": "https://localhost:8080/",
          "height": 656
        },
        "id": "V41wd4O6_5Kz",
        "outputId": "2a7aef9b-293a-438b-d4a7-e57cd5b580fc"
      },
      "outputs": [],
      "source": [
        "# Churn by Monthly Charges\n",
        "plt.figure(figsize=(6, 4))\n",
        "sns.boxplot(data=df, x='Churn', y='MonthlyCharges', palette='Blues')\n",
        "plt.title('Churn by Monthly Charges')\n",
        "plt.xlabel('Churn')\n",
        "plt.ylabel('Monthly Charges')\n",
        "plt.show()"
      ]
    },
    {
      "cell_type": "markdown",
      "metadata": {
        "id": "FgKqve12HNe7"
      },
      "source": [
        "Monthly Charges: Customers with higher monthly charges were found to churn more frequently. This indicates that pricing plays a significant role in customer decisions, particularly when they perceive a lack of value for money. Offering value-added services or flexible pricing plans for high-paying customers could mitigate this churn risk."
      ]
    },
    {
      "cell_type": "code",
      "execution_count": null,
      "metadata": {
        "colab": {
          "base_uri": "https://localhost:8080/",
          "height": 962
        },
        "id": "ARkirZQGAI5v",
        "outputId": "7c260ff2-9b98-4705-eb30-e4dcfb2fe8ca"
      },
      "outputs": [],
      "source": [
        "# Churn by Streaming TV and Movies Services\n",
        "plt.figure(figsize=(6, 4))\n",
        "sns.countplot(data=df, x='StreamingTV', hue='Churn', palette='Set2')\n",
        "plt.title('Churn by Streaming TV Service')\n",
        "plt.xlabel('Streaming TV Service')\n",
        "plt.ylabel('Count')\n",
        "plt.legend(title='Churn')\n",
        "plt.show()\n",
        "\n",
        "plt.figure(figsize=(6, 4))\n",
        "sns.countplot(data=df, x='StreamingMovies', hue='Churn', palette='Set2')\n",
        "plt.title('Churn by Streaming Movies Service')\n",
        "plt.xlabel('Streaming Movies Service')\n",
        "plt.ylabel('Count')\n",
        "plt.legend(title='Churn')\n",
        "plt.show()"
      ]
    },
    {
      "cell_type": "markdown",
      "metadata": {
        "id": "-rP9QCkGHh0B"
      },
      "source": [
        "Streaming Services: Customers who subscribed to both streaming TV and movies churned more often than those without streaming services. This might indicate dissatisfaction with entertainment service quality or pricing."
      ]
    },
    {
      "cell_type": "markdown",
      "metadata": {
        "id": "Yw96LOOhAoF2"
      },
      "source": [
        "###Some insights\n",
        "1. Service-Related Factors Affect Churn:\n",
        "  * Contract Type: Customers with month-to-month contracts had a significantly higher churn rate compared to those on one-year or two-year contracts. This suggests that customers with more flexibility in their contracts are more likely to leave, possibly due to lack of commitment.\n",
        "  * Internet Service Type: Customers using DSL (Digital Subscriber Line) services had a lower churn rate compared to those using fiber optic services. While fiber optic offers faster speeds, it may also be more expensive, prompting customers to churn when they find more affordable options.\n",
        "  * Streaming Services: Customers who subscribed to both streaming TV and movies churned more often than those without streaming services. This might indicate dissatisfaction with entertainment service quality or pricing.\n",
        "\n",
        "2. Tenure and Loyalty Influence Churn:\n",
        "  * Customer Tenure: Long-term customers (those with more than two years of tenure) had a significantly lower churn rate than new customers. This suggests that once customers stay beyond a certain point, they are more likely to remain loyal to the company. Efforts to engage and retain customers during their first few months could be crucial.\n",
        "  * Tenure Discounts: Offering tenure-based discounts or rewards can increase retention rates by reinforcing loyalty among newer customers, reducing their likelihood of churn in the critical first year.\n",
        "\n",
        "3. Billing Preferences Impact Churn:\n",
        "  * Electronic Billing: Customers using paperless billing were more likely to churn compared to those receiving paper bills. This could reflect customer dissatisfaction with electronic billing systems or a preference for more traditional communication.\n",
        "  * Automatic Payments: Customers on automatic payment plans had a lower churn rate. This suggests that encouraging customers to switch to automatic billing could help retain them, as it reduces the likelihood of churn due to forgotten payments or billing issues.\n",
        "\n",
        "4. Demographics and Churn:\n",
        "  * Partner and Dependent Status: Customers without partners or dependents churned at a higher rate. This could imply that customers living alone or with fewer obligations might be more price-sensitive or more likely to switch services frequently.\n",
        "  * Gender Impact: Although gender alone did not show a strong correlation with churn, deeper analysis suggested that certain groups (such as single, elderly customers) might be more vulnerable, regardless of gender.\n",
        "\n",
        "5. Pricing Sensitivity:\n",
        "  * Monthly Charges: Customers with higher monthly charges were found to churn more frequently. This indicates that pricing plays a significant role in customer decisions, particularly when they perceive a lack of value for money. Offering value-added services or flexible pricing plans for high-paying customers could mitigate this churn risk.\n",
        "  * Promotional Offers: Customers who had initially signed up for promotional offers (discounted pricing) churned more frequently once the offer period ended. This insight could prompt the design of better retention campaigns, such as extending offers or providing discounts based on tenure.\n",
        "\n",
        "6. Value Perception Drives Churn:\n",
        "  * High Service Utilization: Customers with a high level of service utilization (e.g., those who subscribed to multiple services like internet, phone, and TV) but a low perceived value were more likely to churn. This suggests that customer satisfaction may not solely depend on the number of services they are subscribed to but rather the value they perceive from those services. Offering bundled services with clear added value could improve retention."
      ]
    },
    {
      "cell_type": "code",
      "execution_count": null,
      "metadata": {
        "colab": {
          "base_uri": "https://localhost:8080/"
        },
        "id": "CPF3O-MOh3PP",
        "outputId": "b4ff2bb4-6054-451a-bbeb-d4841a5708a4"
      },
      "outputs": [],
      "source": [
        "# Number of records where individuals churned\n",
        "n_Churn = df[df['Churn'] == \"Yes\"].shape[0]\n",
        "\n",
        "# Number of records where individuals did not churn\n",
        "n_notChurn = df[df['Churn'] == \"No\"].shape[0]\n",
        "\n",
        "# Total number of records\n",
        "total_records = df.shape[0]\n",
        "\n",
        "# Percentage of individuals who did not churn\n",
        "percent_Not_Churn = (n_notChurn / total_records) * 100\n",
        "# Percentage of individuals who did churn\n",
        "percent_Churn = (n_Churn / total_records) * 100\n",
        "\n",
        "print(\"Churn: {}\".format(n_Churn))\n",
        "print(\"Not Churn: {}\".format(n_notChurn))\n",
        "print(\"Percentage of churn {:.2f}%\".format(percent_Churn))\n",
        "print(\"Percentage of non-churn {:.2f}%\".format(percent_Not_Churn))\n"
      ]
    },
    {
      "cell_type": "code",
      "execution_count": null,
      "metadata": {
        "colab": {
          "base_uri": "https://localhost:8080/",
          "height": 444
        },
        "id": "ajL5hZjTI1xo",
        "outputId": "6ef8dff0-70ab-465a-e287-c2b9fe6497ad"
      },
      "outputs": [],
      "source": [
        "# Data for churn and non-churn\n",
        "labels = ['Churn', 'Not Churn']\n",
        "sizes = [n_Churn, n_notChurn]\n",
        "\n",
        "\n",
        "# Create the pie chart\n",
        "plt.figure(figsize=(5, 5))\n",
        "plt.pie(sizes, labels=labels, autopct='%1.1f%%', startangle=90, wedgeprops={'edgecolor': 'white'})\n",
        "\n",
        "# Equal aspect ratio ensures that pie is drawn as a circle.\n",
        "plt.axis('equal')\n",
        "plt.title(\"Customer Churn vs Non-Churn\")\n",
        "plt.show()"
      ]
    },
    {
      "cell_type": "markdown",
      "metadata": {
        "id": "gcGkD2JObozb"
      },
      "source": [
        "This Indicate That Our Data is not balanced\n"
      ]
    },
    {
      "cell_type": "markdown",
      "metadata": {
        "id": "-UmNQOl1gNMK"
      },
      "source": [
        "Conclusion:\n",
        "\n",
        "1- Non_Chrun are more than Chrun the data is unbalanced.\n",
        "\n",
        "\n",
        "Problems we have:\n",
        "\n",
        "1- Handling Nulls\n",
        "\n",
        "2- Encoding Categorical Columns\n",
        "\n",
        "3- Feature Selection\n",
        "\n",
        "4- Making the dataset more balanced because our model will biased to Non_Chrun."
      ]
    },
    {
      "cell_type": "markdown",
      "metadata": {
        "id": "EHpUtWMSjP3J"
      },
      "source": [
        "# Data Preprocessing"
      ]
    },
    {
      "cell_type": "markdown",
      "metadata": {
        "id": "LgXeIT-ujUn5"
      },
      "source": [
        "## Handling String columns:"
      ]
    },
    {
      "cell_type": "code",
      "execution_count": null,
      "metadata": {
        "colab": {
          "base_uri": "https://localhost:8080/"
        },
        "id": "XN0sOjLlil_m",
        "outputId": "79e79e6c-f20c-496d-8038-b290f09d6925"
      },
      "outputs": [],
      "source": [
        "df['gender']=df['gender'].replace(\"Female\",1)\n",
        "df['gender']=df['gender'].replace(\"Male\",0)"
      ]
    },
    {
      "cell_type": "code",
      "execution_count": null,
      "metadata": {
        "colab": {
          "base_uri": "https://localhost:8080/"
        },
        "id": "SLH6SQBpjbUu",
        "outputId": "20782669-74d6-4614-edac-18f7922e31cc"
      },
      "outputs": [],
      "source": [
        "df['Partner']=df['Partner'].replace(\"Yes\",1)\n",
        "df['Partner']=df['Partner'].replace(\"No\",0)"
      ]
    },
    {
      "cell_type": "code",
      "execution_count": null,
      "metadata": {
        "colab": {
          "base_uri": "https://localhost:8080/"
        },
        "id": "91H0I2Pcjp3l",
        "outputId": "443a262b-1411-4e31-bb70-06c22bc6fb22"
      },
      "outputs": [],
      "source": [
        "df['Dependents']=df['Dependents'].replace(\"Yes\",1)\n",
        "df['Dependents']=df['Dependents'].replace(\"No\",0)"
      ]
    },
    {
      "cell_type": "code",
      "execution_count": null,
      "metadata": {
        "colab": {
          "base_uri": "https://localhost:8080/"
        },
        "id": "GF8k1ayxkCHM",
        "outputId": "addf2d61-7042-43a4-edaf-d2ce135980fb"
      },
      "outputs": [],
      "source": [
        "df['PhoneService']=df['PhoneService'].replace(\"Yes\",1)\n",
        "df['PhoneService']=df['PhoneService'].replace(\"No\",0)"
      ]
    },
    {
      "cell_type": "code",
      "execution_count": null,
      "metadata": {
        "colab": {
          "base_uri": "https://localhost:8080/"
        },
        "id": "SQETp4MNkPlz",
        "outputId": "324a7da6-45e0-4824-876f-db7d92e8f505"
      },
      "outputs": [],
      "source": [
        "df['MultipleLines']=df['MultipleLines'].replace(\"Yes\",1)\n",
        "df['MultipleLines']=df['MultipleLines'].replace(\"No\",0)\n",
        "df['MultipleLines']=df['MultipleLines'].replace(\"No phone service\",2)"
      ]
    },
    {
      "cell_type": "code",
      "execution_count": null,
      "metadata": {
        "colab": {
          "base_uri": "https://localhost:8080/"
        },
        "id": "1ySn3nH1k80c",
        "outputId": "68f47669-8f61-4caf-f25d-9033d30950d5"
      },
      "outputs": [],
      "source": [
        "df['InternetService']=df['InternetService'].replace(\"DSL\",2)\n",
        "df['InternetService']=df['InternetService'].replace(\"Fiber optic\",1)\n",
        "df['InternetService']=df['InternetService'].replace(\"No\",0)"
      ]
    },
    {
      "cell_type": "code",
      "execution_count": null,
      "metadata": {
        "colab": {
          "base_uri": "https://localhost:8080/"
        },
        "id": "BmWWnbB1luQv",
        "outputId": "3df60408-1115-4d4f-8f26-470732b69d3b"
      },
      "outputs": [],
      "source": [
        "df['OnlineSecurity']=df['OnlineSecurity'].replace(\"Yes\",1)\n",
        "df['OnlineSecurity']=df['OnlineSecurity'].replace(\"No\",0)\n",
        "df['OnlineSecurity']=df['OnlineSecurity'].replace(\"No internet service\",2)"
      ]
    },
    {
      "cell_type": "code",
      "execution_count": null,
      "metadata": {
        "colab": {
          "base_uri": "https://localhost:8080/"
        },
        "id": "BVZlnJaQl92i",
        "outputId": "d9f32700-f967-4809-99c4-673632a0a649"
      },
      "outputs": [],
      "source": [
        "df['OnlineBackup']=df['OnlineBackup'].replace(\"Yes\",1)\n",
        "df['OnlineBackup']=df['OnlineBackup'].replace(\"No\",0)\n",
        "df['OnlineBackup']=df['OnlineBackup'].replace(\"No internet service\",2)"
      ]
    },
    {
      "cell_type": "code",
      "execution_count": null,
      "metadata": {
        "colab": {
          "base_uri": "https://localhost:8080/"
        },
        "id": "g7z3ct7cmI_L",
        "outputId": "2f440598-f4a0-48bd-b804-156438c8f149"
      },
      "outputs": [],
      "source": [
        "df['DeviceProtection']=df['DeviceProtection'].replace(\"Yes\",1)\n",
        "df['DeviceProtection']=df['DeviceProtection'].replace(\"No\",0)\n",
        "df['DeviceProtection']=df['DeviceProtection'].replace(\"No internet service\",2)"
      ]
    },
    {
      "cell_type": "code",
      "execution_count": null,
      "metadata": {
        "colab": {
          "base_uri": "https://localhost:8080/"
        },
        "id": "5uHRV3NxnCk5",
        "outputId": "29999e25-1327-4e6d-c0d7-36ae6880066a"
      },
      "outputs": [],
      "source": [
        "df['TechSupport']=df['TechSupport'].replace(\"Yes\",1)\n",
        "df['TechSupport']=df['TechSupport'].replace(\"No\",0)\n",
        "df['TechSupport']=df['TechSupport'].replace(\"No internet service\",2)"
      ]
    },
    {
      "cell_type": "code",
      "execution_count": null,
      "metadata": {
        "colab": {
          "base_uri": "https://localhost:8080/"
        },
        "id": "d6HceyYfnIWX",
        "outputId": "5c6f46dd-c7f1-4f69-a6d4-453b14d8911f"
      },
      "outputs": [],
      "source": [
        "df['StreamingTV']=df['StreamingTV'].replace(\"Yes\",1)\n",
        "df['StreamingTV']=df['StreamingTV'].replace(\"No\",0)\n",
        "df['StreamingTV']=df['StreamingTV'].replace(\"No internet service\",2)"
      ]
    },
    {
      "cell_type": "code",
      "execution_count": null,
      "metadata": {
        "colab": {
          "base_uri": "https://localhost:8080/"
        },
        "id": "-JuhbOD5nJSr",
        "outputId": "667c85c4-a2cf-43fd-96f1-1ba34d3195ed"
      },
      "outputs": [],
      "source": [
        "df['StreamingMovies']=df['StreamingMovies'].replace(\"Yes\",1)\n",
        "df['StreamingMovies']=df['StreamingMovies'].replace(\"No\",0)\n",
        "df['StreamingMovies']=df['StreamingMovies'].replace(\"No internet service\",2)"
      ]
    },
    {
      "cell_type": "code",
      "execution_count": null,
      "metadata": {
        "colab": {
          "base_uri": "https://localhost:8080/"
        },
        "id": "XBd7-Q2SneHe",
        "outputId": "8b2af4da-3b0b-4110-dcca-c5c4ecd5fead"
      },
      "outputs": [],
      "source": [
        "df['Contract']=df['Contract'].replace(\"Month-to-month\",0)\n",
        "df['Contract']=df['Contract'].replace(\"One year\",1)\n",
        "df['Contract']=df['Contract'].replace(\"Two year\",2)"
      ]
    },
    {
      "cell_type": "code",
      "execution_count": null,
      "metadata": {
        "colab": {
          "base_uri": "https://localhost:8080/"
        },
        "id": "g3JTqmJsneMe",
        "outputId": "7c33c732-c63b-42e6-d808-cc1bc12a74f5"
      },
      "outputs": [],
      "source": [
        "df['PaperlessBilling']=df['PaperlessBilling'].replace(\"Yes\",1)\n",
        "df['PaperlessBilling']=df['PaperlessBilling'].replace(\"No\",0)"
      ]
    },
    {
      "cell_type": "code",
      "execution_count": null,
      "metadata": {
        "colab": {
          "base_uri": "https://localhost:8080/"
        },
        "id": "qIruk7SVneN3",
        "outputId": "40915b65-ad76-49aa-be0d-5696e81482a9"
      },
      "outputs": [],
      "source": [
        "df['PaymentMethod']=df['PaymentMethod'].replace(\"Electronic check\",0)\n",
        "df['PaymentMethod']=df['PaymentMethod'].replace(\"Mailed check\",1)\n",
        "df['PaymentMethod']=df['PaymentMethod'].replace(\"Bank transfer (automatic)\",2)\n",
        "df['PaymentMethod']=df['PaymentMethod'].replace(\"Credit card (automatic)\",3)"
      ]
    },
    {
      "cell_type": "code",
      "execution_count": null,
      "metadata": {
        "colab": {
          "base_uri": "https://localhost:8080/"
        },
        "id": "lcztOfT8rOBQ",
        "outputId": "cabda821-bb27-46ca-8ed4-4ddfcdfb7f77"
      },
      "outputs": [],
      "source": [
        "df['Churn']=df['Churn'].replace(\"Yes\",1)\n",
        "df['Churn']=df['Churn'].replace(\"No\",0)"
      ]
    },
    {
      "cell_type": "code",
      "execution_count": null,
      "metadata": {
        "colab": {
          "base_uri": "https://localhost:8080/",
          "height": 342
        },
        "id": "QRqv0xd6rYOn",
        "outputId": "9a22bc59-cc2a-4bbc-b49b-631ee0bd387c"
      },
      "outputs": [],
      "source": [
        "df.head()"
      ]
    },
    {
      "cell_type": "code",
      "execution_count": null,
      "metadata": {
        "colab": {
          "base_uri": "https://localhost:8080/"
        },
        "id": "fzqP88buvIty",
        "outputId": "61a223bc-49cc-4509-bc9f-9bc0cd94c312"
      },
      "outputs": [],
      "source": [
        "df.columns"
      ]
    },
    {
      "cell_type": "code",
      "execution_count": null,
      "metadata": {
        "colab": {
          "base_uri": "https://localhost:8080/",
          "height": 178
        },
        "id": "Y6J0oZ2OvKF5",
        "outputId": "f34846c1-f73f-48d6-f72a-c9bade7be0c4"
      },
      "outputs": [],
      "source": [
        "df['Churn'].value_counts()"
      ]
    },
    {
      "cell_type": "markdown",
      "metadata": {
        "id": "3sxIgMpBrplo"
      },
      "source": [
        "All Data Now is Numerical Except The ID Column (It's Difficult To Encode it so We will Drop it )"
      ]
    },
    {
      "cell_type": "markdown",
      "metadata": {
        "id": "Rh2mYF0usDkR"
      },
      "source": [
        "We Don't Have Nulls or Duplicate or Even Outliers\n"
      ]
    },
    {
      "cell_type": "code",
      "execution_count": null,
      "metadata": {
        "colab": {
          "base_uri": "https://localhost:8080/",
          "height": 342
        },
        "id": "4NS0b-TlYpld",
        "outputId": "71cc5728-e71c-40b8-a6b9-a3f030474812"
      },
      "outputs": [],
      "source": [
        "df.head()"
      ]
    },
    {
      "cell_type": "code",
      "execution_count": 130,
      "metadata": {
        "id": "3alEGusE4q38"
      },
      "outputs": [],
      "source": [
        "df.drop('Column1', axis=1, inplace=True)"
      ]
    },
    {
      "cell_type": "code",
      "execution_count": null,
      "metadata": {
        "colab": {
          "base_uri": "https://localhost:8080/",
          "height": 458
        },
        "id": "A75aYw0ixuwK",
        "outputId": "ce195efe-3c3a-4ec2-e050-fe69d647e13e"
      },
      "outputs": [],
      "source": [
        "df['TotalCharges']"
      ]
    },
    {
      "cell_type": "markdown",
      "metadata": {
        "id": "FlMjKviDJbtK"
      },
      "source": [
        "### Correlation"
      ]
    },
    {
      "cell_type": "code",
      "execution_count": null,
      "metadata": {
        "colab": {
          "base_uri": "https://localhost:8080/",
          "height": 878
        },
        "id": "Kh63ut5vYplX",
        "outputId": "55044622-6851-4a81-a1e7-f743f09c7555"
      },
      "outputs": [],
      "source": [
        "# heatmap\n",
        "plt.figure(figsize=(20,10))\n",
        "sns.heatmap(df.corr(), annot=True,linewidths=.5, cmap=\"Purples\")"
      ]
    },
    {
      "cell_type": "code",
      "execution_count": null,
      "metadata": {
        "colab": {
          "base_uri": "https://localhost:8080/",
          "height": 747
        },
        "id": "AGfNSh-4YplX",
        "outputId": "0fce948e-0eba-4344-9b9a-e7cd9fe64e2a"
      },
      "outputs": [],
      "source": [
        "import matplotlib.pyplot as plt\n",
        "\n",
        "# Your code for plotting\n",
        "plt.figure(figsize=(14, 7))\n",
        "df.corr()['Churn'].sort_values(ascending=False).plot(kind='bar')  # This line will create a bar plot for better visualization\n",
        "plt.title('Correlation of Features with Churn')\n",
        "plt.ylabel('Correlation Coefficient')\n",
        "plt.xlabel('Features')\n",
        "plt.show()\n"
      ]
    },
    {
      "cell_type": "markdown",
      "metadata": {
        "id": "3HJFhpWLu3oJ"
      },
      "source": [
        "# Models:\n"
      ]
    },
    {
      "cell_type": "code",
      "execution_count": 13,
      "metadata": {
        "id": "qNY4Pdvou7ht"
      },
      "outputs": [],
      "source": [
        "from sklearn.linear_model import LogisticRegression\n",
        "from sklearn.metrics import classification_report , confusion_matrix\n",
        "from sklearn.metrics import f1_score, precision_score\n",
        "from sklearn import metrics\n",
        "from sklearn.metrics import accuracy_score\n",
        "from sklearn import ensemble\n",
        "from sklearn.tree import DecisionTreeClassifier\n",
        "from sklearn.ensemble import RandomForestClassifier\n",
        "from sklearn.svm import LinearSVC"
      ]
    },
    {
      "cell_type": "code",
      "execution_count": 15,
      "metadata": {
        "colab": {
          "base_uri": "https://localhost:8080/",
          "height": 295
        },
        "id": "VlXwg4boYpld",
        "outputId": "c5650876-c1e0-404f-d292-c7d644b32320"
      },
      "outputs": [
        {
          "data": {
            "text/html": [
              "<div>\n",
              "<style scoped>\n",
              "    .dataframe tbody tr th:only-of-type {\n",
              "        vertical-align: middle;\n",
              "    }\n",
              "\n",
              "    .dataframe tbody tr th {\n",
              "        vertical-align: top;\n",
              "    }\n",
              "\n",
              "    .dataframe thead th {\n",
              "        text-align: right;\n",
              "    }\n",
              "</style>\n",
              "<table border=\"1\" class=\"dataframe\">\n",
              "  <thead>\n",
              "    <tr style=\"text-align: right;\">\n",
              "      <th></th>\n",
              "      <th>gender</th>\n",
              "      <th>SeniorCitizen</th>\n",
              "      <th>Partner</th>\n",
              "      <th>Dependents</th>\n",
              "      <th>tenure</th>\n",
              "      <th>PhoneService</th>\n",
              "      <th>MultipleLines</th>\n",
              "      <th>InternetService</th>\n",
              "      <th>OnlineSecurity</th>\n",
              "      <th>OnlineBackup</th>\n",
              "      <th>DeviceProtection</th>\n",
              "      <th>TechSupport</th>\n",
              "      <th>StreamingTV</th>\n",
              "      <th>StreamingMovies</th>\n",
              "      <th>Contract</th>\n",
              "      <th>PaperlessBilling</th>\n",
              "      <th>PaymentMethod</th>\n",
              "      <th>MonthlyCharges</th>\n",
              "      <th>TotalCharges</th>\n",
              "      <th>Churn</th>\n",
              "    </tr>\n",
              "  </thead>\n",
              "  <tbody>\n",
              "    <tr>\n",
              "      <th>0</th>\n",
              "      <td>Female</td>\n",
              "      <td>0</td>\n",
              "      <td>Yes</td>\n",
              "      <td>No</td>\n",
              "      <td>1</td>\n",
              "      <td>No</td>\n",
              "      <td>No phone service</td>\n",
              "      <td>DSL</td>\n",
              "      <td>No</td>\n",
              "      <td>Yes</td>\n",
              "      <td>No</td>\n",
              "      <td>No</td>\n",
              "      <td>No</td>\n",
              "      <td>No</td>\n",
              "      <td>Month-to-month</td>\n",
              "      <td>Yes</td>\n",
              "      <td>Electronic check</td>\n",
              "      <td>29.85</td>\n",
              "      <td>29.85</td>\n",
              "      <td>No</td>\n",
              "    </tr>\n",
              "    <tr>\n",
              "      <th>1</th>\n",
              "      <td>Male</td>\n",
              "      <td>0</td>\n",
              "      <td>No</td>\n",
              "      <td>No</td>\n",
              "      <td>34</td>\n",
              "      <td>Yes</td>\n",
              "      <td>No</td>\n",
              "      <td>DSL</td>\n",
              "      <td>Yes</td>\n",
              "      <td>No</td>\n",
              "      <td>Yes</td>\n",
              "      <td>No</td>\n",
              "      <td>No</td>\n",
              "      <td>No</td>\n",
              "      <td>One year</td>\n",
              "      <td>No</td>\n",
              "      <td>Mailed check</td>\n",
              "      <td>56.95</td>\n",
              "      <td>1889.50</td>\n",
              "      <td>No</td>\n",
              "    </tr>\n",
              "    <tr>\n",
              "      <th>2</th>\n",
              "      <td>Male</td>\n",
              "      <td>0</td>\n",
              "      <td>No</td>\n",
              "      <td>No</td>\n",
              "      <td>2</td>\n",
              "      <td>Yes</td>\n",
              "      <td>No</td>\n",
              "      <td>DSL</td>\n",
              "      <td>Yes</td>\n",
              "      <td>Yes</td>\n",
              "      <td>No</td>\n",
              "      <td>No</td>\n",
              "      <td>No</td>\n",
              "      <td>No</td>\n",
              "      <td>Month-to-month</td>\n",
              "      <td>Yes</td>\n",
              "      <td>Mailed check</td>\n",
              "      <td>53.85</td>\n",
              "      <td>108.15</td>\n",
              "      <td>Yes</td>\n",
              "    </tr>\n",
              "    <tr>\n",
              "      <th>3</th>\n",
              "      <td>Male</td>\n",
              "      <td>0</td>\n",
              "      <td>No</td>\n",
              "      <td>No</td>\n",
              "      <td>45</td>\n",
              "      <td>No</td>\n",
              "      <td>No phone service</td>\n",
              "      <td>DSL</td>\n",
              "      <td>Yes</td>\n",
              "      <td>No</td>\n",
              "      <td>Yes</td>\n",
              "      <td>Yes</td>\n",
              "      <td>No</td>\n",
              "      <td>No</td>\n",
              "      <td>One year</td>\n",
              "      <td>No</td>\n",
              "      <td>Bank transfer (automatic)</td>\n",
              "      <td>42.30</td>\n",
              "      <td>1840.75</td>\n",
              "      <td>No</td>\n",
              "    </tr>\n",
              "    <tr>\n",
              "      <th>4</th>\n",
              "      <td>Female</td>\n",
              "      <td>0</td>\n",
              "      <td>No</td>\n",
              "      <td>No</td>\n",
              "      <td>2</td>\n",
              "      <td>Yes</td>\n",
              "      <td>No</td>\n",
              "      <td>Fiber optic</td>\n",
              "      <td>No</td>\n",
              "      <td>No</td>\n",
              "      <td>No</td>\n",
              "      <td>No</td>\n",
              "      <td>No</td>\n",
              "      <td>No</td>\n",
              "      <td>Month-to-month</td>\n",
              "      <td>Yes</td>\n",
              "      <td>Electronic check</td>\n",
              "      <td>70.70</td>\n",
              "      <td>151.65</td>\n",
              "      <td>Yes</td>\n",
              "    </tr>\n",
              "  </tbody>\n",
              "</table>\n",
              "</div>"
            ],
            "text/plain": [
              "   gender  SeniorCitizen Partner Dependents  tenure PhoneService  \\\n",
              "0  Female              0     Yes         No       1           No   \n",
              "1    Male              0      No         No      34          Yes   \n",
              "2    Male              0      No         No       2          Yes   \n",
              "3    Male              0      No         No      45           No   \n",
              "4  Female              0      No         No       2          Yes   \n",
              "\n",
              "      MultipleLines InternetService OnlineSecurity OnlineBackup  \\\n",
              "0  No phone service             DSL             No          Yes   \n",
              "1                No             DSL            Yes           No   \n",
              "2                No             DSL            Yes          Yes   \n",
              "3  No phone service             DSL            Yes           No   \n",
              "4                No     Fiber optic             No           No   \n",
              "\n",
              "  DeviceProtection TechSupport StreamingTV StreamingMovies        Contract  \\\n",
              "0               No          No          No              No  Month-to-month   \n",
              "1              Yes          No          No              No        One year   \n",
              "2               No          No          No              No  Month-to-month   \n",
              "3              Yes         Yes          No              No        One year   \n",
              "4               No          No          No              No  Month-to-month   \n",
              "\n",
              "  PaperlessBilling              PaymentMethod  MonthlyCharges  TotalCharges  \\\n",
              "0              Yes           Electronic check           29.85         29.85   \n",
              "1               No               Mailed check           56.95       1889.50   \n",
              "2              Yes               Mailed check           53.85        108.15   \n",
              "3               No  Bank transfer (automatic)           42.30       1840.75   \n",
              "4              Yes           Electronic check           70.70        151.65   \n",
              "\n",
              "  Churn  \n",
              "0    No  \n",
              "1    No  \n",
              "2   Yes  \n",
              "3    No  \n",
              "4   Yes  "
            ]
          },
          "execution_count": 15,
          "metadata": {},
          "output_type": "execute_result"
        }
      ],
      "source": [
        "import pandas as pd\n",
        "import numpy as np\n",
        "from sklearn.preprocessing import LabelEncoder\n",
        "from sklearn.ensemble import RandomForestClassifier\n",
        "from sklearn.model_selection import GridSearchCV, cross_val_score\n",
        "from sklearn.metrics import accuracy_score, classification_report\n",
        "\n",
        "# Load the dataset\n",
        "df = pd.read_csv('E:/DEPI/big project/WA_Fn-UseC_-Telco-Customer-Churn.csv')\n",
        "\n",
        "# Drop the 'Column1' column\n",
        "df = df.drop(columns=['Column1'])\n",
        "\n",
        "# Display the first few rows to confirm the column has been removed\n",
        "df.head()\n"
      ]
    },
    {
      "cell_type": "code",
      "execution_count": 16,
      "metadata": {
        "colab": {
          "base_uri": "https://localhost:8080/"
        },
        "id": "dfmEUtXpgw1D",
        "outputId": "ad05af4e-5c70-4470-9edb-78d87b7f0a25"
      },
      "outputs": [
        {
          "name": "stdout",
          "output_type": "stream",
          "text": [
            "Encoded values for column 'gender':\n",
            "  Label: Female, Encoded Value: 0\n",
            "  Label: Male, Encoded Value: 1\n",
            "Encoded values for column 'Partner':\n",
            "  Label: No, Encoded Value: 0\n",
            "  Label: Yes, Encoded Value: 1\n",
            "Encoded values for column 'Dependents':\n",
            "  Label: No, Encoded Value: 0\n",
            "  Label: Yes, Encoded Value: 1\n",
            "Encoded values for column 'PhoneService':\n",
            "  Label: No, Encoded Value: 0\n",
            "  Label: Yes, Encoded Value: 1\n",
            "Encoded values for column 'MultipleLines':\n",
            "  Label: No, Encoded Value: 0\n",
            "  Label: No phone service, Encoded Value: 1\n",
            "  Label: Yes, Encoded Value: 2\n",
            "Encoded values for column 'InternetService':\n",
            "  Label: DSL, Encoded Value: 0\n",
            "  Label: Fiber optic, Encoded Value: 1\n",
            "  Label: No, Encoded Value: 2\n",
            "Encoded values for column 'OnlineSecurity':\n",
            "  Label: No, Encoded Value: 0\n",
            "  Label: No internet service, Encoded Value: 1\n",
            "  Label: Yes, Encoded Value: 2\n",
            "Encoded values for column 'OnlineBackup':\n",
            "  Label: No, Encoded Value: 0\n",
            "  Label: No internet service, Encoded Value: 1\n",
            "  Label: Yes, Encoded Value: 2\n",
            "Encoded values for column 'DeviceProtection':\n",
            "  Label: No, Encoded Value: 0\n",
            "  Label: No internet service, Encoded Value: 1\n",
            "  Label: Yes, Encoded Value: 2\n",
            "Encoded values for column 'TechSupport':\n",
            "  Label: No, Encoded Value: 0\n",
            "  Label: No internet service, Encoded Value: 1\n",
            "  Label: Yes, Encoded Value: 2\n",
            "Encoded values for column 'StreamingTV':\n",
            "  Label: No, Encoded Value: 0\n",
            "  Label: No internet service, Encoded Value: 1\n",
            "  Label: Yes, Encoded Value: 2\n",
            "Encoded values for column 'StreamingMovies':\n",
            "  Label: No, Encoded Value: 0\n",
            "  Label: No internet service, Encoded Value: 1\n",
            "  Label: Yes, Encoded Value: 2\n",
            "Encoded values for column 'Contract':\n",
            "  Label: Month-to-month, Encoded Value: 0\n",
            "  Label: One year, Encoded Value: 1\n",
            "  Label: Two year, Encoded Value: 2\n",
            "Encoded values for column 'PaperlessBilling':\n",
            "  Label: No, Encoded Value: 0\n",
            "  Label: Yes, Encoded Value: 1\n",
            "Encoded values for column 'PaymentMethod':\n",
            "  Label: Bank transfer (automatic), Encoded Value: 0\n",
            "  Label: Credit card (automatic), Encoded Value: 1\n",
            "  Label: Electronic check, Encoded Value: 2\n",
            "  Label: Mailed check, Encoded Value: 3\n",
            "Encoded values for column 'Churn':\n",
            "  Label: No, Encoded Value: 0\n",
            "  Label: Yes, Encoded Value: 1\n"
          ]
        }
      ],
      "source": [
        "# Initialize LabelEncoders for categorical columns\n",
        "encs = {}\n",
        "for catcol in [col for col in df.columns if df[col].dtype == 'object']:\n",
        "    encs[catcol] = LabelEncoder()\n",
        "    df[catcol] = encs[catcol].fit_transform(df[catcol])\n",
        "    print(f\"Encoded values for column '{catcol}':\")\n",
        "    for label, value in zip(encs[catcol].classes_, encs[catcol].transform(encs[catcol].classes_)):\n",
        "        print(f\"  Label: {label}, Encoded Value: {value}\")\n",
        "\n",
        "# Shuffle the dataset\n",
        "df_shuffled = df.sample(frac=1, random_state=42).reset_index(drop=True)\n",
        "\n",
        "# Calculate the split index for training and testing (80% training, 20% testing)\n",
        "split_index = int(0.8 * len(df_shuffled))"
      ]
    },
    {
      "cell_type": "code",
      "execution_count": 17,
      "metadata": {
        "colab": {
          "base_uri": "https://localhost:8080/"
        },
        "id": "a1vk7VDKYpld",
        "outputId": "f647be75-c474-485f-eab4-a940a879613c"
      },
      "outputs": [
        {
          "name": "stdout",
          "output_type": "stream",
          "text": [
            "Train set size: (4507, 20)\n",
            "Validation set size: (1127, 20)\n",
            "Test set size: (1409, 20)\n"
          ]
        }
      ],
      "source": [
        "# Split the data into train (80%) and test (20%)\n",
        "train_df = df_shuffled[:split_index]\n",
        "test_df = df_shuffled[split_index:]\n",
        "\n",
        "# Further split the train_df into train (80% of train_df) and validation (20% of train_df)\n",
        "split_index_val = int(0.8 * len(train_df))\n",
        "train_data = train_df[:split_index_val]\n",
        "val_data = train_df[split_index_val:]\n",
        "\n",
        "# Output the sizes of each set\n",
        "print(f\"Train set size: {train_data.shape}\")\n",
        "print(f\"Validation set size: {val_data.shape}\")\n",
        "print(f\"Test set size: {test_df.shape}\")"
      ]
    },
    {
      "cell_type": "code",
      "execution_count": 18,
      "metadata": {
        "colab": {
          "base_uri": "https://localhost:8080/"
        },
        "id": "B7GYEIn-Yple",
        "outputId": "c20f7d83-0306-47b2-9939-7dcd06fd6a25"
      },
      "outputs": [
        {
          "name": "stdout",
          "output_type": "stream",
          "text": [
            "Fitting 5 folds for each of 216 candidates, totalling 1080 fits\n",
            "Best Hyperparameters: {'bootstrap': True, 'max_depth': None, 'min_samples_leaf': 4, 'min_samples_split': 10, 'n_estimators': 500}\n"
          ]
        }
      ],
      "source": [
        "# Assuming 'Churn' is the target column, and the rest are features\n",
        "target_column = 'Churn'\n",
        "\n",
        "# Prepare the training data (separate features and target)\n",
        "X_train = train_data.drop(columns=[target_column])\n",
        "y_train = train_data[target_column]\n",
        "\n",
        "# Prepare the testing and validation data\n",
        "X_val = val_data.drop(columns=[target_column])\n",
        "y_val = val_data[target_column]\n",
        "X_test = test_df.drop(columns=[target_column])\n",
        "y_test = test_df[target_column]\n",
        "\n",
        "# Initialize the RandomForestClassifier\n",
        "rf_model = RandomForestClassifier(random_state=50)\n",
        "\n",
        "# Define the parameter grid to search over\n",
        "param_grid = {\n",
        "    'n_estimators': [50, 100, 200,500],         # Number of trees\n",
        "    'max_depth': [10, 20, None],            # Maximum depth of each tree\n",
        "    'min_samples_split': [2, 5, 10],        # Minimum number of samples required to split a node\n",
        "    'min_samples_leaf': [1, 2, 4],          # Minimum number of samples required at each leaf node\n",
        "    'bootstrap': [True, False]              # Whether to use bootstrap samples when building trees\n",
        "}\n",
        "\n",
        "# Set up the GridSearchCV\n",
        "grid_search = GridSearchCV(estimator=rf_model,\n",
        "                           param_grid=param_grid,\n",
        "                           cv=5,              # 5-fold cross-validation\n",
        "                           scoring='accuracy', # Use accuracy to evaluate models\n",
        "                           verbose=2,          # Print details while running\n",
        "                           n_jobs=-1)          # Use all processors\n",
        "\n",
        "\n",
        "# Perform grid search on the training set\n",
        "grid_search.fit(X_train, y_train)\n",
        "\n",
        "# Output the best hyperparameters from the grid search\n",
        "print(\"Best Hyperparameters:\", grid_search.best_params_)\n",
        "\n"
      ]
    },
    {
      "cell_type": "code",
      "execution_count": 19,
      "metadata": {
        "colab": {
          "base_uri": "https://localhost:8080/"
        },
        "id": "7pYS3TxGYple",
        "outputId": "ca13f429-ea3e-43a8-ec21-4a5f6040e92a"
      },
      "outputs": [
        {
          "name": "stdout",
          "output_type": "stream",
          "text": [
            "Validation Accuracy: 0.8048\n",
            "Validation Classification Report:\n",
            "               precision    recall  f1-score   support\n",
            "\n",
            "           0       0.84      0.91      0.87       836\n",
            "           1       0.66      0.50      0.57       291\n",
            "\n",
            "    accuracy                           0.80      1127\n",
            "   macro avg       0.75      0.71      0.72      1127\n",
            "weighted avg       0.79      0.80      0.80      1127\n",
            "\n",
            "Test Accuracy: 0.7991\n",
            "Test Classification Report:\n",
            "               precision    recall  f1-score   support\n",
            "\n",
            "           0       0.84      0.91      0.87      1052\n",
            "           1       0.64      0.47      0.54       357\n",
            "\n",
            "    accuracy                           0.80      1409\n",
            "   macro avg       0.74      0.69      0.71      1409\n",
            "weighted avg       0.79      0.80      0.79      1409\n",
            "\n"
          ]
        }
      ],
      "source": [
        "# Best model after grid search\n",
        "best_rf_model = grid_search.best_estimator_\n",
        "\n",
        "# Align the columns between train and test/validation sets (in case any column is missing)\n",
        "X_train, X_test = X_train.align(X_test, join='left', axis=1, fill_value=0)\n",
        "X_train, X_val = X_train.align(X_val, join='left', axis=1, fill_value=0)\n",
        "\n",
        "# Make predictions on the validation set\n",
        "y_val_pred = best_rf_model.predict(X_val)\n",
        "\n",
        "# Make predictions on the test set\n",
        "y_test_pred = best_rf_model.predict(X_test)\n",
        "\n",
        "# Evaluate the model on the validation set\n",
        "val_accuracy = accuracy_score(y_val, y_val_pred)\n",
        "print(f\"Validation Accuracy: {val_accuracy:.4f}\")\n",
        "print(\"Validation Classification Report:\\n\", classification_report(y_val, y_val_pred))\n",
        "\n",
        "# Evaluate the model on the test set\n",
        "test_accuracy = accuracy_score(y_test, y_test_pred)\n",
        "print(f\"Test Accuracy: {test_accuracy:.4f}\")\n",
        "print(\"Test Classification Report:\\n\", classification_report(y_test, y_test_pred))\n"
      ]
    },
    {
      "cell_type": "code",
      "execution_count": 20,
      "metadata": {
        "colab": {
          "base_uri": "https://localhost:8080/"
        },
        "id": "QKQDcKKwYple",
        "outputId": "f442bc6d-845e-4576-c5ea-41d02358b50a"
      },
      "outputs": [
        {
          "name": "stdout",
          "output_type": "stream",
          "text": [
            "OOB Score: 0.7999\n",
            "Validation Accuracy: 0.7950\n",
            "Validation Classification Report:\n",
            "               precision    recall  f1-score   support\n",
            "\n",
            "           0       0.83      0.91      0.87       836\n",
            "           1       0.64      0.48      0.55       291\n",
            "\n",
            "    accuracy                           0.80      1127\n",
            "   macro avg       0.74      0.69      0.71      1127\n",
            "weighted avg       0.78      0.80      0.78      1127\n",
            "\n",
            "Test Accuracy: 0.8091\n",
            "Test Classification Report:\n",
            "               precision    recall  f1-score   support\n",
            "\n",
            "           0       0.83      0.93      0.88      1052\n",
            "           1       0.68      0.46      0.55       357\n",
            "\n",
            "    accuracy                           0.81      1409\n",
            "   macro avg       0.76      0.69      0.71      1409\n",
            "weighted avg       0.80      0.81      0.80      1409\n",
            "\n"
          ]
        }
      ],
      "source": [
        "import pandas as pd\n",
        "import numpy as np\n",
        "from sklearn.ensemble import RandomForestClassifier\n",
        "from sklearn.metrics import accuracy_score, classification_report\n",
        "from sklearn.preprocessing import LabelEncoder\n",
        "\n",
        "# Load the dataset\n",
        "df = pd.read_csv('E:/DEPI/big project/WA_Fn-UseC_-Telco-Customer-Churn.csv')\n",
        "\n",
        "# Drop the first column if necessary (Column1 or Unnamed: 0)\n",
        "df = df.drop(columns=['Column1'], errors='ignore')\n",
        "\n",
        "# Initialize LabelEncoders for categorical columns\n",
        "encs = {}\n",
        "for catcol in [col for col in df.columns if df[col].dtype == 'object']:\n",
        "    encs[catcol] = LabelEncoder()\n",
        "    df[catcol] = encs[catcol].fit_transform(df[catcol])\n",
        "\n",
        "# Shuffle the dataset\n",
        "df_shuffled = df.sample(frac=1, random_state=42).reset_index(drop=True)\n",
        "\n",
        "# Calculate the split index for training and testing (80% training, 20% testing)\n",
        "split_index = int(0.8 * len(df_shuffled))\n",
        "\n",
        "# Split the data into train (80%) and test (20%)\n",
        "train_df = df_shuffled[:split_index]\n",
        "test_df = df_shuffled[split_index:]\n",
        "\n",
        "# Further split the train_df into train (80% of train_df) and validation (20% of train_df)\n",
        "split_index_val = int(0.8 * len(train_df))\n",
        "train_data = train_df[:split_index_val]\n",
        "val_data = train_df[split_index_val:]\n",
        "\n",
        "# Assuming 'Churn' is the target column, and the rest are features\n",
        "target_column = 'Churn'\n",
        "\n",
        "# Prepare the training data (separate features and target)\n",
        "X_train = train_data.drop(columns=[target_column])\n",
        "y_train = train_data[target_column]\n",
        "\n",
        "# Prepare the testing and validation data\n",
        "X_val = val_data.drop(columns=[target_column])\n",
        "y_val = val_data[target_column]\n",
        "X_test = test_df.drop(columns=[target_column])\n",
        "y_test = test_df[target_column]\n",
        "\n",
        "# Align columns between train and test/validation sets\n",
        "X_train, X_test = X_train.align(X_test, join='left', axis=1, fill_value=0)\n",
        "X_train, X_val = X_train.align(X_val, join='left', axis=1, fill_value=0)\n",
        "\n",
        "# Initialize the RandomForestClassifier with the updated parameters\n",
        "rf_model = RandomForestClassifier(n_estimators=500,\n",
        "                                  oob_score=True,\n",
        "                                  n_jobs=-1,\n",
        "                                  random_state=50,\n",
        "                                  max_features=\"sqrt\",  # Changed from 'auto' to 'sqrt'\n",
        "                                  max_leaf_nodes=30)\n",
        "\n",
        "# Train the model on the training set\n",
        "rf_model.fit(X_train, y_train)\n",
        "\n",
        "# Evaluate OOB (Out-of-Bag) score\n",
        "print(f\"OOB Score: {rf_model.oob_score_:.4f}\")\n",
        "\n",
        "# Make predictions on the validation set\n",
        "y_val_pred = rf_model.predict(X_val)\n",
        "\n",
        "# Make predictions on the test set\n",
        "y_test_pred = rf_model.predict(X_test)\n",
        "\n",
        "# Evaluate the model on the validation set\n",
        "val_accuracy = accuracy_score(y_val, y_val_pred)\n",
        "print(f\"Validation Accuracy: {val_accuracy:.4f}\")\n",
        "print(\"Validation Classification Report:\\n\", classification_report(y_val, y_val_pred))\n",
        "\n",
        "# Evaluate the model on the test set\n",
        "test_accuracy = accuracy_score(y_test, y_test_pred)\n",
        "print(f\"Test Accuracy: {test_accuracy:.4f}\")\n",
        "print(\"Test Classification Report:\\n\", classification_report(y_test, y_test_pred))\n"
      ]
    },
    {
      "cell_type": "code",
      "execution_count": 48,
      "metadata": {},
      "outputs": [
        {
          "data": {
            "image/png": "[encoded data removed]",
            "text/plain": [
              "<Figure size 800x600 with 1 Axes>"
            ]
          },
          "metadata": {},
          "output_type": "display_data"
        }
      ],
      "source": [
        "from sklearn.metrics import confusion_matrix\n",
        "import seaborn as sns\n",
        "import matplotlib.pyplot as plt\n",
        "\n",
        "# Generate predictions on the test set\n",
        "y_test_pred_rf = best_rf_model.predict(X_test)\n",
        "\n",
        "# Compute the confusion matrix\n",
        "conf_matrix_rf = confusion_matrix(y_test, y_test_pred_rf)\n",
        "\n",
        "# Plot the confusion matrix using Seaborn heatmap\n",
        "plt.figure(figsize=(8, 6))\n",
        "sns.heatmap(conf_matrix_rf, annot=True, fmt='d', cmap='Blues', cbar=False,\n",
        "            xticklabels=['Not Churn', 'Churn'], yticklabels=['Not Churn', 'Churn'])\n",
        "plt.xlabel('Predicted')\n",
        "plt.ylabel('Actual')\n",
        "plt.title('Confusion Matrix - Random Forest')\n",
        "plt.show()\n"
      ]
    },
    {
      "cell_type": "code",
      "execution_count": null,
      "metadata": {
        "colab": {
          "base_uri": "https://localhost:8080/"
        },
        "id": "7P81Tq_cYple",
        "outputId": "271fe1ff-b591-4da4-f5c2-769e36c7e251"
      },
      "outputs": [],
      "source": [
        "import joblib\n",
        "\n",
        "# Save the trained model\n",
        "joblib.dump(rf_model, 'random_forest_model.pkl')\n",
        "\n",
        "# Save the label encoders\n",
        "joblib.dump(encs, 'label_encoders.pkl')\n"
      ]
    },
    {
      "cell_type": "markdown",
      "metadata": {
        "id": "mX-di5opYplf"
      },
      "source": [
        "logistic reg\n"
      ]
    },
    {
      "cell_type": "code",
      "execution_count": 21,
      "metadata": {
        "id": "YNsMB4nrYplf"
      },
      "outputs": [],
      "source": [
        "from sklearn.linear_model import LogisticRegression\n",
        "from sklearn.metrics import classification_report , confusion_matrix\n",
        "from sklearn.metrics import f1_score, precision_score\n",
        "from sklearn import metrics\n",
        "from sklearn.metrics import accuracy_score\n",
        "from sklearn import ensemble\n",
        "from sklearn.ensemble import RandomForestClassifier\n",
        "from sklearn.svm import LinearSVC"
      ]
    },
    {
      "cell_type": "code",
      "execution_count": 22,
      "metadata": {
        "id": "SqcRXze9zprz"
      },
      "outputs": [],
      "source": [
        "# Split the data into train (80%) and test (20%)\n",
        "train_df_lr = df_shuffled[:split_index]\n",
        "test_df_lr = df_shuffled[split_index:]\n",
        "\n",
        "# Further split the train_df into train (80% of train_df) and validation (20% of train_df)\n",
        "split_index_val = int(0.8 * len(train_df_lr))\n",
        "x_train_lr = train_df_lr[:split_index_val]\n",
        "x_val_lr = train_df_lr[split_index_val:]\n",
        "\n",
        "# Assuming 'Churn' is the target column, and the rest are features\n",
        "target_column_lr = 'Churn'\n",
        "\n",
        "# Prepare the training data (separate features and target)\n",
        "x_train_lr_features = x_train_lr.drop(columns=[target_column_lr])\n",
        "y_train_lr = x_train_lr[target_column_lr]\n",
        "\n",
        "# Prepare the validation and test data\n",
        "x_val_lr_features = x_val_lr.drop(columns=[target_column_lr])\n",
        "y_val_lr = x_val_lr[target_column_lr]\n",
        "x_test_lr_features = test_df_lr.drop(columns=[target_column_lr])\n",
        "y_test_lr = test_df_lr[target_column_lr]\n",
        "\n",
        "# Align columns between train and test/validation sets\n",
        "x_train_lr_features, x_test_lr_features = x_train_lr_features.align(x_test_lr_features, join='left', axis=1, fill_value=0)\n",
        "x_train_lr_features, x_val_lr_features = x_train_lr_features.align(x_val_lr_features, join='left', axis=1, fill_value=0)"
      ]
    },
    {
      "cell_type": "code",
      "execution_count": 23,
      "metadata": {
        "colab": {
          "base_uri": "https://localhost:8080/"
        },
        "collapsed": true,
        "id": "w2y8HvgIz1L1",
        "outputId": "a9fad82f-b468-4e97-ca28-22c4b3acd79a"
      },
      "outputs": [
        {
          "name": "stdout",
          "output_type": "stream",
          "text": [
            "Fitting 5 folds for each of 40 candidates, totalling 200 fits\n",
            "Best Hyperparameters: {'C': 10, 'penalty': 'l1', 'solver': 'liblinear'}\n"
          ]
        },
        {
          "name": "stderr",
          "output_type": "stream",
          "text": [
            "c:\\Users\\ramys\\anaconda3\\Lib\\site-packages\\sklearn\\model_selection\\_validation.py:547: FitFailedWarning: \n",
            "100 fits failed out of a total of 200.\n",
            "The score on these train-test partitions for these parameters will be set to nan.\n",
            "If these failures are not expected, you can try to debug them by setting error_score='raise'.\n",
            "\n",
            "Below are more details about the failures:\n",
            "--------------------------------------------------------------------------------\n",
            "25 fits failed with the following error:\n",
            "Traceback (most recent call last):\n",
            "  File \"c:\\Users\\ramys\\anaconda3\\Lib\\site-packages\\sklearn\\model_selection\\_validation.py\", line 895, in _fit_and_score\n",
            "    estimator.fit(X_train, y_train, **fit_params)\n",
            "  File \"c:\\Users\\ramys\\anaconda3\\Lib\\site-packages\\sklearn\\base.py\", line 1474, in wrapper\n",
            "    return fit_method(estimator, *args, **kwargs)\n",
            "           ^^^^^^^^^^^^^^^^^^^^^^^^^^^^^^^^^^^^^^\n",
            "  File \"c:\\Users\\ramys\\anaconda3\\Lib\\site-packages\\sklearn\\linear_model\\_logistic.py\", line 1172, in fit\n",
            "    solver = _check_solver(self.solver, self.penalty, self.dual)\n",
            "             ^^^^^^^^^^^^^^^^^^^^^^^^^^^^^^^^^^^^^^^^^^^^^^^^^^^\n",
            "  File \"c:\\Users\\ramys\\anaconda3\\Lib\\site-packages\\sklearn\\linear_model\\_logistic.py\", line 75, in _check_solver\n",
            "    raise ValueError(\n",
            "ValueError: Only 'saga' solver supports elasticnet penalty, got solver=liblinear.\n",
            "\n",
            "--------------------------------------------------------------------------------\n",
            "25 fits failed with the following error:\n",
            "Traceback (most recent call last):\n",
            "  File \"c:\\Users\\ramys\\anaconda3\\Lib\\site-packages\\sklearn\\model_selection\\_validation.py\", line 895, in _fit_and_score\n",
            "    estimator.fit(X_train, y_train, **fit_params)\n",
            "  File \"c:\\Users\\ramys\\anaconda3\\Lib\\site-packages\\sklearn\\base.py\", line 1474, in wrapper\n",
            "    return fit_method(estimator, *args, **kwargs)\n",
            "           ^^^^^^^^^^^^^^^^^^^^^^^^^^^^^^^^^^^^^^\n",
            "  File \"c:\\Users\\ramys\\anaconda3\\Lib\\site-packages\\sklearn\\linear_model\\_logistic.py\", line 1182, in fit\n",
            "    raise ValueError(\"l1_ratio must be specified when penalty is elasticnet.\")\n",
            "ValueError: l1_ratio must be specified when penalty is elasticnet.\n",
            "\n",
            "--------------------------------------------------------------------------------\n",
            "22 fits failed with the following error:\n",
            "Traceback (most recent call last):\n",
            "  File \"c:\\Users\\ramys\\anaconda3\\Lib\\site-packages\\sklearn\\model_selection\\_validation.py\", line 895, in _fit_and_score\n",
            "    estimator.fit(X_train, y_train, **fit_params)\n",
            "  File \"c:\\Users\\ramys\\anaconda3\\Lib\\site-packages\\sklearn\\base.py\", line 1467, in wrapper\n",
            "    estimator._validate_params()\n",
            "  File \"c:\\Users\\ramys\\anaconda3\\Lib\\site-packages\\sklearn\\base.py\", line 666, in _validate_params\n",
            "    validate_parameter_constraints(\n",
            "  File \"c:\\Users\\ramys\\anaconda3\\Lib\\site-packages\\sklearn\\utils\\_param_validation.py\", line 95, in validate_parameter_constraints\n",
            "    raise InvalidParameterError(\n",
            "sklearn.utils._param_validation.InvalidParameterError: The 'penalty' parameter of LogisticRegression must be a str among {'l1', 'l2', 'elasticnet'} or None. Got 'none' instead.\n",
            "\n",
            "--------------------------------------------------------------------------------\n",
            "9 fits failed with the following error:\n",
            "Traceback (most recent call last):\n",
            "  File \"c:\\Users\\ramys\\anaconda3\\Lib\\site-packages\\sklearn\\model_selection\\_validation.py\", line 895, in _fit_and_score\n",
            "    estimator.fit(X_train, y_train, **fit_params)\n",
            "  File \"c:\\Users\\ramys\\anaconda3\\Lib\\site-packages\\sklearn\\base.py\", line 1467, in wrapper\n",
            "    estimator._validate_params()\n",
            "  File \"c:\\Users\\ramys\\anaconda3\\Lib\\site-packages\\sklearn\\base.py\", line 666, in _validate_params\n",
            "    validate_parameter_constraints(\n",
            "  File \"c:\\Users\\ramys\\anaconda3\\Lib\\site-packages\\sklearn\\utils\\_param_validation.py\", line 95, in validate_parameter_constraints\n",
            "    raise InvalidParameterError(\n",
            "sklearn.utils._param_validation.InvalidParameterError: The 'penalty' parameter of LogisticRegression must be a str among {'elasticnet', 'l1', 'l2'} or None. Got 'none' instead.\n",
            "\n",
            "--------------------------------------------------------------------------------\n",
            "4 fits failed with the following error:\n",
            "Traceback (most recent call last):\n",
            "  File \"c:\\Users\\ramys\\anaconda3\\Lib\\site-packages\\sklearn\\model_selection\\_validation.py\", line 895, in _fit_and_score\n",
            "    estimator.fit(X_train, y_train, **fit_params)\n",
            "  File \"c:\\Users\\ramys\\anaconda3\\Lib\\site-packages\\sklearn\\base.py\", line 1467, in wrapper\n",
            "    estimator._validate_params()\n",
            "  File \"c:\\Users\\ramys\\anaconda3\\Lib\\site-packages\\sklearn\\base.py\", line 666, in _validate_params\n",
            "    validate_parameter_constraints(\n",
            "  File \"c:\\Users\\ramys\\anaconda3\\Lib\\site-packages\\sklearn\\utils\\_param_validation.py\", line 95, in validate_parameter_constraints\n",
            "    raise InvalidParameterError(\n",
            "sklearn.utils._param_validation.InvalidParameterError: The 'penalty' parameter of LogisticRegression must be a str among {'elasticnet', 'l2', 'l1'} or None. Got 'none' instead.\n",
            "\n",
            "--------------------------------------------------------------------------------\n",
            "7 fits failed with the following error:\n",
            "Traceback (most recent call last):\n",
            "  File \"c:\\Users\\ramys\\anaconda3\\Lib\\site-packages\\sklearn\\model_selection\\_validation.py\", line 895, in _fit_and_score\n",
            "    estimator.fit(X_train, y_train, **fit_params)\n",
            "  File \"c:\\Users\\ramys\\anaconda3\\Lib\\site-packages\\sklearn\\base.py\", line 1467, in wrapper\n",
            "    estimator._validate_params()\n",
            "  File \"c:\\Users\\ramys\\anaconda3\\Lib\\site-packages\\sklearn\\base.py\", line 666, in _validate_params\n",
            "    validate_parameter_constraints(\n",
            "  File \"c:\\Users\\ramys\\anaconda3\\Lib\\site-packages\\sklearn\\utils\\_param_validation.py\", line 95, in validate_parameter_constraints\n",
            "    raise InvalidParameterError(\n",
            "sklearn.utils._param_validation.InvalidParameterError: The 'penalty' parameter of LogisticRegression must be a str among {'l2', 'l1', 'elasticnet'} or None. Got 'none' instead.\n",
            "\n",
            "--------------------------------------------------------------------------------\n",
            "4 fits failed with the following error:\n",
            "Traceback (most recent call last):\n",
            "  File \"c:\\Users\\ramys\\anaconda3\\Lib\\site-packages\\sklearn\\model_selection\\_validation.py\", line 895, in _fit_and_score\n",
            "    estimator.fit(X_train, y_train, **fit_params)\n",
            "  File \"c:\\Users\\ramys\\anaconda3\\Lib\\site-packages\\sklearn\\base.py\", line 1467, in wrapper\n",
            "    estimator._validate_params()\n",
            "  File \"c:\\Users\\ramys\\anaconda3\\Lib\\site-packages\\sklearn\\base.py\", line 666, in _validate_params\n",
            "    validate_parameter_constraints(\n",
            "  File \"c:\\Users\\ramys\\anaconda3\\Lib\\site-packages\\sklearn\\utils\\_param_validation.py\", line 95, in validate_parameter_constraints\n",
            "    raise InvalidParameterError(\n",
            "sklearn.utils._param_validation.InvalidParameterError: The 'penalty' parameter of LogisticRegression must be a str among {'l2', 'elasticnet', 'l1'} or None. Got 'none' instead.\n",
            "\n",
            "--------------------------------------------------------------------------------\n",
            "4 fits failed with the following error:\n",
            "Traceback (most recent call last):\n",
            "  File \"c:\\Users\\ramys\\anaconda3\\Lib\\site-packages\\sklearn\\model_selection\\_validation.py\", line 895, in _fit_and_score\n",
            "    estimator.fit(X_train, y_train, **fit_params)\n",
            "  File \"c:\\Users\\ramys\\anaconda3\\Lib\\site-packages\\sklearn\\base.py\", line 1467, in wrapper\n",
            "    estimator._validate_params()\n",
            "  File \"c:\\Users\\ramys\\anaconda3\\Lib\\site-packages\\sklearn\\base.py\", line 666, in _validate_params\n",
            "    validate_parameter_constraints(\n",
            "  File \"c:\\Users\\ramys\\anaconda3\\Lib\\site-packages\\sklearn\\utils\\_param_validation.py\", line 95, in validate_parameter_constraints\n",
            "    raise InvalidParameterError(\n",
            "sklearn.utils._param_validation.InvalidParameterError: The 'penalty' parameter of LogisticRegression must be a str among {'l1', 'elasticnet', 'l2'} or None. Got 'none' instead.\n",
            "\n",
            "  warnings.warn(some_fits_failed_message, FitFailedWarning)\n",
            "c:\\Users\\ramys\\anaconda3\\Lib\\site-packages\\sklearn\\model_selection\\_search.py:1051: UserWarning: One or more of the test scores are non-finite: [0.7945392  0.77346358 0.80075157 0.77390679        nan        nan\n",
            "        nan        nan 0.80297132 0.77368507 0.80141725 0.77412852\n",
            "        nan        nan        nan        nan 0.80319256 0.77390679\n",
            " 0.80297157 0.77412852        nan        nan        nan        nan\n",
            " 0.80363676 0.77412852 0.80252786 0.77412852        nan        nan\n",
            "        nan        nan 0.80363676 0.77412852 0.80208391 0.77412852\n",
            "        nan        nan        nan        nan]\n",
            "  warnings.warn(\n"
          ]
        }
      ],
      "source": [
        "# Initialize the Logistic Regression model\n",
        "lr_model = LogisticRegression(random_state=50, max_iter=1000)\n",
        "\n",
        "# Define the hyperparameters grid for tuning\n",
        "param_grid_lr = {\n",
        "    'C': [0.01, 0.1, 1, 10, 100],       # Regularization strength\n",
        "    'penalty': ['l1', 'l2', 'elasticnet', 'none'],  # Regularization types\n",
        "    'solver': ['liblinear', 'saga'],     # Solvers compatible with l1 or l2\n",
        "}\n",
        "\n",
        "# Set up GridSearchCV\n",
        "grid_search_lr = GridSearchCV(estimator=lr_model,\n",
        "                              param_grid=param_grid_lr,\n",
        "                              cv=5,               # 5-fold cross-validation\n",
        "                              scoring='accuracy', # Use accuracy to evaluate models\n",
        "                              verbose=2,          # Print details while running\n",
        "                              n_jobs=-1)          # Use all processors\n",
        "\n",
        "# Perform grid search on the training set\n",
        "grid_search_lr.fit(x_train_lr_features, y_train_lr)\n",
        "\n",
        "# Output the best hyperparameters from the grid search\n",
        "print(\"Best Hyperparameters:\", grid_search_lr.best_params_)"
      ]
    },
    {
      "cell_type": "code",
      "execution_count": 24,
      "metadata": {
        "colab": {
          "base_uri": "https://localhost:8080/"
        },
        "id": "fDUOSodJwG9X",
        "outputId": "d256adac-9ee2-4491-fed8-f0c770ceabfd"
      },
      "outputs": [
        {
          "name": "stdout",
          "output_type": "stream",
          "text": [
            "Validation Accuracy: 0.7853\n",
            "Validation Classification Report:\n",
            "               precision    recall  f1-score   support\n",
            "\n",
            "           0       0.84      0.88      0.86       836\n",
            "           1       0.60      0.52      0.55       291\n",
            "\n",
            "    accuracy                           0.79      1127\n",
            "   macro avg       0.72      0.70      0.71      1127\n",
            "weighted avg       0.78      0.79      0.78      1127\n",
            "\n",
            "Test Accuracy: 0.8020\n",
            "Test Classification Report:\n",
            "               precision    recall  f1-score   support\n",
            "\n",
            "           0       0.85      0.89      0.87      1052\n",
            "           1       0.63      0.53      0.58       357\n",
            "\n",
            "    accuracy                           0.80      1409\n",
            "   macro avg       0.74      0.71      0.72      1409\n",
            "weighted avg       0.79      0.80      0.80      1409\n",
            "\n"
          ]
        }
      ],
      "source": [
        "# Best model after grid search\n",
        "best_lr_model = grid_search_lr.best_estimator_\n",
        "\n",
        "# Make predictions on the validation set using the best logistic regression model\n",
        "y_val_lr_pred = best_lr_model.predict(x_val_lr_features)\n",
        "\n",
        "# Make predictions on the test set using the best logistic regression model\n",
        "y_test_lr_pred = best_lr_model.predict(x_test_lr_features)\n",
        "\n",
        "# Evaluate the model on the validation set\n",
        "val_accuracy_lr = accuracy_score(y_val_lr, y_val_lr_pred)\n",
        "print(f\"Validation Accuracy: {val_accuracy_lr:.4f}\")\n",
        "print(\"Validation Classification Report:\\n\", classification_report(y_val_lr, y_val_lr_pred))\n",
        "\n",
        "# Evaluate the model on the test set\n",
        "test_accuracy_lr = accuracy_score(y_test_lr, y_test_lr_pred)\n",
        "print(f\"Test Accuracy: {test_accuracy_lr:.4f}\")\n",
        "print(\"Test Classification Report:\\n\", classification_report(y_test_lr, y_test_lr_pred))"
      ]
    },
    {
      "cell_type": "code",
      "execution_count": 28,
      "metadata": {
        "colab": {
          "base_uri": "https://localhost:8080/",
          "height": 392
        },
        "id": "ICQCdKQz03vw",
        "outputId": "a1a8d769-9d61-4448-dd84-93c450c48d51"
      },
      "outputs": [
        {
          "data": {
            "image/png": "[encoded data removed]",
            "text/plain": [
              "<Figure size 500x400 with 2 Axes>"
            ]
          },
          "metadata": {},
          "output_type": "display_data"
        }
      ],
      "source": [
        "import matplotlib.pyplot as plt\n",
        "import seaborn as sns\n",
        "\n",
        "plt.figure(figsize=(5,4))\n",
        "sns.heatmap(confusion_matrix(y_test_lr, y_test_lr_pred),\n",
        "                annot=True,fmt = \"d\", cmap='Blues', linecolor=\"k\",linewidths=0.9, xticklabels=['Not Churn', 'Churn'], yticklabels=['Not Churn', 'Churn'])\n",
        "\n",
        "plt.title(\"LOGISTIC REGRESSION CONFUSION MATRIX\",fontsize=14)\n",
        "plt.show()"
      ]
    },
    {
      "cell_type": "code",
      "execution_count": 29,
      "metadata": {
        "colab": {
          "base_uri": "https://localhost:8080/",
          "height": 586
        },
        "id": "4_-y6EoRjH9v",
        "outputId": "4f0b6049-e08d-4c65-ace7-0e6325c3a5da"
      },
      "outputs": [
        {
          "data": {
            "image/png": "[encoded data removed]",
            "text/plain": [
              "<Figure size 600x400 with 1 Axes>"
            ]
          },
          "metadata": {},
          "output_type": "display_data"
        }
      ],
      "source": [
        "# Calculate the proportion of customers predicted to churn and not churn for each SeniorCitizen group\n",
        "x_test_lr_features['PredictedChurn'] = y_test_lr_pred\n",
        "churn_rates_by_senior = x_test_lr_features.groupby('SeniorCitizen')['PredictedChurn'].mean()\n",
        "\n",
        "# Plot the churn rates for SeniorCitizen = 0 (non-senior) and SeniorCitizen = 1 (senior)\n",
        "plt.figure(figsize=(6, 4))\n",
        "sns.barplot(x=churn_rates_by_senior.index, y=churn_rates_by_senior.values, palette= 'Blues')\n",
        "\n",
        "# Add labels and title\n",
        "plt.title('Churn Rates by Senior Citizen Status')\n",
        "\n",
        "plt.ylabel('Churn Rate')\n",
        "plt.ylim(0, 1)  # Limit y-axis to 0-1 for percentage scale\n",
        "plt.xticks([0, 1], ['Not Senior Citizen', 'Senior Citizen'])\n",
        "\n",
        "# Show values on bars\n",
        "for i, v in enumerate(churn_rates_by_senior):\n",
        "    plt.text(i, v + 0.02, f'{v:.2f}', ha='center', fontsize=12)\n",
        "\n",
        "plt.show()"
      ]
    },
    {
      "cell_type": "code",
      "execution_count": 31,
      "metadata": {
        "id": "d7BjfZCkWEUO"
      },
      "outputs": [
        {
          "data": {
            "text/plain": [
              "['joblib_model.sav_lr']"
            ]
          },
          "execution_count": 31,
          "metadata": {},
          "output_type": "execute_result"
        }
      ],
      "source": [
        "import joblib\n",
        "\n",
        "# save model with joblib\n",
        "filename = 'joblib_model.sav_lr'\n",
        "joblib.dump(grid_search_lr, filename)"
      ]
    },
    {
      "cell_type": "code",
      "execution_count": 32,
      "metadata": {
        "id": "28M77J79Wcxm"
      },
      "outputs": [
        {
          "name": "stdout",
          "output_type": "stream",
          "text": [
            "              precision    recall  f1-score   support\n",
            "\n",
            "           0       0.85      0.89      0.87      1052\n",
            "           1       0.63      0.53      0.58       357\n",
            "\n",
            "    accuracy                           0.80      1409\n",
            "   macro avg       0.74      0.71      0.72      1409\n",
            "weighted avg       0.79      0.80      0.80      1409\n",
            "\n"
          ]
        }
      ],
      "source": [
        "# load model with joblib\n",
        "loaded_model = joblib.load(filename)\n",
        "\n",
        "# evaluate model\n",
        "y_predict = grid_search_lr.predict(X_test)\n",
        "\n",
        "# check results\n",
        "print(classification_report(y_test, y_predict))"
      ]
    },
    {
      "cell_type": "markdown",
      "metadata": {
        "id": "sTZw31weYplg"
      },
      "source": [
        "SVM"
      ]
    },
    {
      "cell_type": "code",
      "execution_count": 33,
      "metadata": {
        "id": "yxE8ISOLYplg"
      },
      "outputs": [],
      "source": [
        "from sklearn.svm import SVC\n",
        "\n",
        "# Split the data into train (80%) and test (20%)\n",
        "train_df_svm = df_shuffled[:split_index]\n",
        "test_df_svm = df_shuffled[split_index:]\n",
        "\n",
        "# Further split the train_df into train (80% of train_df) and validation (20% of train_df)\n",
        "split_index_val = int(0.8 * len(train_df_svm))\n",
        "x_train_svm = train_df_svm[:split_index_val]\n",
        "x_val_svm = train_df_svm[split_index_val:]\n",
        "\n",
        "# Assuming 'Churn' is the target column, and the rest are features\n",
        "target_column_svm = 'Churn'\n",
        "\n",
        "# Prepare the training data (separate features and target)\n",
        "x_train_svm_features = x_train_svm.drop(columns=[target_column_svm])\n",
        "y_train_svm = x_train_svm[target_column_svm]\n",
        "\n",
        "# Prepare the validation and test data\n",
        "x_val_svm_features = x_val_svm.drop(columns=[target_column_svm])\n",
        "y_val_svm = x_val_svm[target_column_svm]\n",
        "x_test_svm_features = test_df_svm.drop(columns=[target_column_svm])\n",
        "y_test_svm = test_df_svm[target_column_svm]\n",
        "\n",
        "# Align columns between train and test/validation sets\n",
        "x_train_svm_features, x_test_svm_features = x_train_svm_features.align(x_test_svm_features, join='left', axis=1, fill_value=0)\n",
        "x_train_svm_features, x_val_svm_features = x_train_svm_features.align(x_val_svm_features, join='left', axis=1, fill_value=0)"
      ]
    },
    {
      "cell_type": "code",
      "execution_count": 34,
      "metadata": {
        "colab": {
          "base_uri": "https://localhost:8080/",
          "height": 80
        },
        "id": "jjkEEwnBYplg",
        "outputId": "a8fdf6de-5819-4bab-8936-e1363aaff334"
      },
      "outputs": [
        {
          "data": {
            "text/html": [
              "<style>#sk-container-id-1 {\n",
              "  /* Definition of color scheme common for light and dark mode */\n",
              "  --sklearn-color-text: black;\n",
              "  --sklearn-color-line: gray;\n",
              "  /* Definition of color scheme for unfitted estimators */\n",
              "  --sklearn-color-unfitted-level-0: #fff5e6;\n",
              "  --sklearn-color-unfitted-level-1: #f6e4d2;\n",
              "  --sklearn-color-unfitted-level-2: #ffe0b3;\n",
              "  --sklearn-color-unfitted-level-3: chocolate;\n",
              "  /* Definition of color scheme for fitted estimators */\n",
              "  --sklearn-color-fitted-level-0: #f0f8ff;\n",
              "  --sklearn-color-fitted-level-1: #d4ebff;\n",
              "  --sklearn-color-fitted-level-2: #b3dbfd;\n",
              "  --sklearn-color-fitted-level-3: cornflowerblue;\n",
              "\n",
              "  /* Specific color for light theme */\n",
              "  --sklearn-color-text-on-default-background: var(--sg-text-color, var(--theme-code-foreground, var(--jp-content-font-color1, black)));\n",
              "  --sklearn-color-background: var(--sg-background-color, var(--theme-background, var(--jp-layout-color0, white)));\n",
              "  --sklearn-color-border-box: var(--sg-text-color, var(--theme-code-foreground, var(--jp-content-font-color1, black)));\n",
              "  --sklearn-color-icon: #696969;\n",
              "\n",
              "  @media (prefers-color-scheme: dark) {\n",
              "    /* Redefinition of color scheme for dark theme */\n",
              "    --sklearn-color-text-on-default-background: var(--sg-text-color, var(--theme-code-foreground, var(--jp-content-font-color1, white)));\n",
              "    --sklearn-color-background: var(--sg-background-color, var(--theme-background, var(--jp-layout-color0, #111)));\n",
              "    --sklearn-color-border-box: var(--sg-text-color, var(--theme-code-foreground, var(--jp-content-font-color1, white)));\n",
              "    --sklearn-color-icon: #878787;\n",
              "  }\n",
              "}\n",
              "\n",
              "#sk-container-id-1 {\n",
              "  color: var(--sklearn-color-text);\n",
              "}\n",
              "\n",
              "#sk-container-id-1 pre {\n",
              "  padding: 0;\n",
              "}\n",
              "\n",
              "#sk-container-id-1 input.sk-hidden--visually {\n",
              "  border: 0;\n",
              "  clip: rect(1px 1px 1px 1px);\n",
              "  clip: rect(1px, 1px, 1px, 1px);\n",
              "  height: 1px;\n",
              "  margin: -1px;\n",
              "  overflow: hidden;\n",
              "  padding: 0;\n",
              "  position: absolute;\n",
              "  width: 1px;\n",
              "}\n",
              "\n",
              "#sk-container-id-1 div.sk-dashed-wrapped {\n",
              "  border: 1px dashed var(--sklearn-color-line);\n",
              "  margin: 0 0.4em 0.5em 0.4em;\n",
              "  box-sizing: border-box;\n",
              "  padding-bottom: 0.4em;\n",
              "  background-color: var(--sklearn-color-background);\n",
              "}\n",
              "\n",
              "#sk-container-id-1 div.sk-container {\n",
              "  /* jupyter's `normalize.less` sets `[hidden] { display: none; }`\n",
              "     but bootstrap.min.css set `[hidden] { display: none !important; }`\n",
              "     so we also need the `!important` here to be able to override the\n",
              "     default hidden behavior on the sphinx rendered scikit-learn.org.\n",
              "     See: https://github.com/scikit-learn/scikit-learn/issues/21755 */\n",
              "  display: inline-block !important;\n",
              "  position: relative;\n",
              "}\n",
              "\n",
              "#sk-container-id-1 div.sk-text-repr-fallback {\n",
              "  display: none;\n",
              "}\n",
              "\n",
              "div.sk-parallel-item,\n",
              "div.sk-serial,\n",
              "div.sk-item {\n",
              "  /* draw centered vertical line to link estimators */\n",
              "  background-image: linear-gradient(var(--sklearn-color-text-on-default-background), var(--sklearn-color-text-on-default-background));\n",
              "  background-size: 2px 100%;\n",
              "  background-repeat: no-repeat;\n",
              "  background-position: center center;\n",
              "}\n",
              "\n",
              "/* Parallel-specific style estimator block */\n",
              "\n",
              "#sk-container-id-1 div.sk-parallel-item::after {\n",
              "  content: \"\";\n",
              "  width: 100%;\n",
              "  border-bottom: 2px solid var(--sklearn-color-text-on-default-background);\n",
              "  flex-grow: 1;\n",
              "}\n",
              "\n",
              "#sk-container-id-1 div.sk-parallel {\n",
              "  display: flex;\n",
              "  align-items: stretch;\n",
              "  justify-content: center;\n",
              "  background-color: var(--sklearn-color-background);\n",
              "  position: relative;\n",
              "}\n",
              "\n",
              "#sk-container-id-1 div.sk-parallel-item {\n",
              "  display: flex;\n",
              "  flex-direction: column;\n",
              "}\n",
              "\n",
              "#sk-container-id-1 div.sk-parallel-item:first-child::after {\n",
              "  align-self: flex-end;\n",
              "  width: 50%;\n",
              "}\n",
              "\n",
              "#sk-container-id-1 div.sk-parallel-item:last-child::after {\n",
              "  align-self: flex-start;\n",
              "  width: 50%;\n",
              "}\n",
              "\n",
              "#sk-container-id-1 div.sk-parallel-item:only-child::after {\n",
              "  width: 0;\n",
              "}\n",
              "\n",
              "/* Serial-specific style estimator block */\n",
              "\n",
              "#sk-container-id-1 div.sk-serial {\n",
              "  display: flex;\n",
              "  flex-direction: column;\n",
              "  align-items: center;\n",
              "  background-color: var(--sklearn-color-background);\n",
              "  padding-right: 1em;\n",
              "  padding-left: 1em;\n",
              "}\n",
              "\n",
              "\n",
              "/* Toggleable style: style used for estimator/Pipeline/ColumnTransformer box that is\n",
              "clickable and can be expanded/collapsed.\n",
              "- Pipeline and ColumnTransformer use this feature and define the default style\n",
              "- Estimators will overwrite some part of the style using the `sk-estimator` class\n",
              "*/\n",
              "\n",
              "/* Pipeline and ColumnTransformer style (default) */\n",
              "\n",
              "#sk-container-id-1 div.sk-toggleable {\n",
              "  /* Default theme specific background. It is overwritten whether we have a\n",
              "  specific estimator or a Pipeline/ColumnTransformer */\n",
              "  background-color: var(--sklearn-color-background);\n",
              "}\n",
              "\n",
              "/* Toggleable label */\n",
              "#sk-container-id-1 label.sk-toggleable__label {\n",
              "  cursor: pointer;\n",
              "  display: block;\n",
              "  width: 100%;\n",
              "  margin-bottom: 0;\n",
              "  padding: 0.5em;\n",
              "  box-sizing: border-box;\n",
              "  text-align: center;\n",
              "}\n",
              "\n",
              "#sk-container-id-1 label.sk-toggleable__label-arrow:before {\n",
              "  /* Arrow on the left of the label */\n",
              "  content: \"▸\";\n",
              "  float: left;\n",
              "  margin-right: 0.25em;\n",
              "  color: var(--sklearn-color-icon);\n",
              "}\n",
              "\n",
              "#sk-container-id-1 label.sk-toggleable__label-arrow:hover:before {\n",
              "  color: var(--sklearn-color-text);\n",
              "}\n",
              "\n",
              "/* Toggleable content - dropdown */\n",
              "\n",
              "#sk-container-id-1 div.sk-toggleable__content {\n",
              "  max-height: 0;\n",
              "  max-width: 0;\n",
              "  overflow: hidden;\n",
              "  text-align: left;\n",
              "  /* unfitted */\n",
              "  background-color: var(--sklearn-color-unfitted-level-0);\n",
              "}\n",
              "\n",
              "#sk-container-id-1 div.sk-toggleable__content.fitted {\n",
              "  /* fitted */\n",
              "  background-color: var(--sklearn-color-fitted-level-0);\n",
              "}\n",
              "\n",
              "#sk-container-id-1 div.sk-toggleable__content pre {\n",
              "  margin: 0.2em;\n",
              "  border-radius: 0.25em;\n",
              "  color: var(--sklearn-color-text);\n",
              "  /* unfitted */\n",
              "  background-color: var(--sklearn-color-unfitted-level-0);\n",
              "}\n",
              "\n",
              "#sk-container-id-1 div.sk-toggleable__content.fitted pre {\n",
              "  /* unfitted */\n",
              "  background-color: var(--sklearn-color-fitted-level-0);\n",
              "}\n",
              "\n",
              "#sk-container-id-1 input.sk-toggleable__control:checked~div.sk-toggleable__content {\n",
              "  /* Expand drop-down */\n",
              "  max-height: 200px;\n",
              "  max-width: 100%;\n",
              "  overflow: auto;\n",
              "}\n",
              "\n",
              "#sk-container-id-1 input.sk-toggleable__control:checked~label.sk-toggleable__label-arrow:before {\n",
              "  content: \"▾\";\n",
              "}\n",
              "\n",
              "/* Pipeline/ColumnTransformer-specific style */\n",
              "\n",
              "#sk-container-id-1 div.sk-label input.sk-toggleable__control:checked~label.sk-toggleable__label {\n",
              "  color: var(--sklearn-color-text);\n",
              "  background-color: var(--sklearn-color-unfitted-level-2);\n",
              "}\n",
              "\n",
              "#sk-container-id-1 div.sk-label.fitted input.sk-toggleable__control:checked~label.sk-toggleable__label {\n",
              "  background-color: var(--sklearn-color-fitted-level-2);\n",
              "}\n",
              "\n",
              "/* Estimator-specific style */\n",
              "\n",
              "/* Colorize estimator box */\n",
              "#sk-container-id-1 div.sk-estimator input.sk-toggleable__control:checked~label.sk-toggleable__label {\n",
              "  /* unfitted */\n",
              "  background-color: var(--sklearn-color-unfitted-level-2);\n",
              "}\n",
              "\n",
              "#sk-container-id-1 div.sk-estimator.fitted input.sk-toggleable__control:checked~label.sk-toggleable__label {\n",
              "  /* fitted */\n",
              "  background-color: var(--sklearn-color-fitted-level-2);\n",
              "}\n",
              "\n",
              "#sk-container-id-1 div.sk-label label.sk-toggleable__label,\n",
              "#sk-container-id-1 div.sk-label label {\n",
              "  /* The background is the default theme color */\n",
              "  color: var(--sklearn-color-text-on-default-background);\n",
              "}\n",
              "\n",
              "/* On hover, darken the color of the background */\n",
              "#sk-container-id-1 div.sk-label:hover label.sk-toggleable__label {\n",
              "  color: var(--sklearn-color-text);\n",
              "  background-color: var(--sklearn-color-unfitted-level-2);\n",
              "}\n",
              "\n",
              "/* Label box, darken color on hover, fitted */\n",
              "#sk-container-id-1 div.sk-label.fitted:hover label.sk-toggleable__label.fitted {\n",
              "  color: var(--sklearn-color-text);\n",
              "  background-color: var(--sklearn-color-fitted-level-2);\n",
              "}\n",
              "\n",
              "/* Estimator label */\n",
              "\n",
              "#sk-container-id-1 div.sk-label label {\n",
              "  font-family: monospace;\n",
              "  font-weight: bold;\n",
              "  display: inline-block;\n",
              "  line-height: 1.2em;\n",
              "}\n",
              "\n",
              "#sk-container-id-1 div.sk-label-container {\n",
              "  text-align: center;\n",
              "}\n",
              "\n",
              "/* Estimator-specific */\n",
              "#sk-container-id-1 div.sk-estimator {\n",
              "  font-family: monospace;\n",
              "  border: 1px dotted var(--sklearn-color-border-box);\n",
              "  border-radius: 0.25em;\n",
              "  box-sizing: border-box;\n",
              "  margin-bottom: 0.5em;\n",
              "  /* unfitted */\n",
              "  background-color: var(--sklearn-color-unfitted-level-0);\n",
              "}\n",
              "\n",
              "#sk-container-id-1 div.sk-estimator.fitted {\n",
              "  /* fitted */\n",
              "  background-color: var(--sklearn-color-fitted-level-0);\n",
              "}\n",
              "\n",
              "/* on hover */\n",
              "#sk-container-id-1 div.sk-estimator:hover {\n",
              "  /* unfitted */\n",
              "  background-color: var(--sklearn-color-unfitted-level-2);\n",
              "}\n",
              "\n",
              "#sk-container-id-1 div.sk-estimator.fitted:hover {\n",
              "  /* fitted */\n",
              "  background-color: var(--sklearn-color-fitted-level-2);\n",
              "}\n",
              "\n",
              "/* Specification for estimator info (e.g. \"i\" and \"?\") */\n",
              "\n",
              "/* Common style for \"i\" and \"?\" */\n",
              "\n",
              ".sk-estimator-doc-link,\n",
              "a:link.sk-estimator-doc-link,\n",
              "a:visited.sk-estimator-doc-link {\n",
              "  float: right;\n",
              "  font-size: smaller;\n",
              "  line-height: 1em;\n",
              "  font-family: monospace;\n",
              "  background-color: var(--sklearn-color-background);\n",
              "  border-radius: 1em;\n",
              "  height: 1em;\n",
              "  width: 1em;\n",
              "  text-decoration: none !important;\n",
              "  margin-left: 1ex;\n",
              "  /* unfitted */\n",
              "  border: var(--sklearn-color-unfitted-level-1) 1pt solid;\n",
              "  color: var(--sklearn-color-unfitted-level-1);\n",
              "}\n",
              "\n",
              ".sk-estimator-doc-link.fitted,\n",
              "a:link.sk-estimator-doc-link.fitted,\n",
              "a:visited.sk-estimator-doc-link.fitted {\n",
              "  /* fitted */\n",
              "  border: var(--sklearn-color-fitted-level-1) 1pt solid;\n",
              "  color: var(--sklearn-color-fitted-level-1);\n",
              "}\n",
              "\n",
              "/* On hover */\n",
              "div.sk-estimator:hover .sk-estimator-doc-link:hover,\n",
              ".sk-estimator-doc-link:hover,\n",
              "div.sk-label-container:hover .sk-estimator-doc-link:hover,\n",
              ".sk-estimator-doc-link:hover {\n",
              "  /* unfitted */\n",
              "  background-color: var(--sklearn-color-unfitted-level-3);\n",
              "  color: var(--sklearn-color-background);\n",
              "  text-decoration: none;\n",
              "}\n",
              "\n",
              "div.sk-estimator.fitted:hover .sk-estimator-doc-link.fitted:hover,\n",
              ".sk-estimator-doc-link.fitted:hover,\n",
              "div.sk-label-container:hover .sk-estimator-doc-link.fitted:hover,\n",
              ".sk-estimator-doc-link.fitted:hover {\n",
              "  /* fitted */\n",
              "  background-color: var(--sklearn-color-fitted-level-3);\n",
              "  color: var(--sklearn-color-background);\n",
              "  text-decoration: none;\n",
              "}\n",
              "\n",
              "/* Span, style for the box shown on hovering the info icon */\n",
              ".sk-estimator-doc-link span {\n",
              "  display: none;\n",
              "  z-index: 9999;\n",
              "  position: relative;\n",
              "  font-weight: normal;\n",
              "  right: .2ex;\n",
              "  padding: .5ex;\n",
              "  margin: .5ex;\n",
              "  width: min-content;\n",
              "  min-width: 20ex;\n",
              "  max-width: 50ex;\n",
              "  color: var(--sklearn-color-text);\n",
              "  box-shadow: 2pt 2pt 4pt #999;\n",
              "  /* unfitted */\n",
              "  background: var(--sklearn-color-unfitted-level-0);\n",
              "  border: .5pt solid var(--sklearn-color-unfitted-level-3);\n",
              "}\n",
              "\n",
              ".sk-estimator-doc-link.fitted span {\n",
              "  /* fitted */\n",
              "  background: var(--sklearn-color-fitted-level-0);\n",
              "  border: var(--sklearn-color-fitted-level-3);\n",
              "}\n",
              "\n",
              ".sk-estimator-doc-link:hover span {\n",
              "  display: block;\n",
              "}\n",
              "\n",
              "/* \"?\"-specific style due to the `<a>` HTML tag */\n",
              "\n",
              "#sk-container-id-1 a.estimator_doc_link {\n",
              "  float: right;\n",
              "  font-size: 1rem;\n",
              "  line-height: 1em;\n",
              "  font-family: monospace;\n",
              "  background-color: var(--sklearn-color-background);\n",
              "  border-radius: 1rem;\n",
              "  height: 1rem;\n",
              "  width: 1rem;\n",
              "  text-decoration: none;\n",
              "  /* unfitted */\n",
              "  color: var(--sklearn-color-unfitted-level-1);\n",
              "  border: var(--sklearn-color-unfitted-level-1) 1pt solid;\n",
              "}\n",
              "\n",
              "#sk-container-id-1 a.estimator_doc_link.fitted {\n",
              "  /* fitted */\n",
              "  border: var(--sklearn-color-fitted-level-1) 1pt solid;\n",
              "  color: var(--sklearn-color-fitted-level-1);\n",
              "}\n",
              "\n",
              "/* On hover */\n",
              "#sk-container-id-1 a.estimator_doc_link:hover {\n",
              "  /* unfitted */\n",
              "  background-color: var(--sklearn-color-unfitted-level-3);\n",
              "  color: var(--sklearn-color-background);\n",
              "  text-decoration: none;\n",
              "}\n",
              "\n",
              "#sk-container-id-1 a.estimator_doc_link.fitted:hover {\n",
              "  /* fitted */\n",
              "  background-color: var(--sklearn-color-fitted-level-3);\n",
              "}\n",
              "</style><div id=\"sk-container-id-1\" class=\"sk-top-container\"><div class=\"sk-text-repr-fallback\"><pre>SVC(kernel=&#x27;linear&#x27;)</pre><b>In a Jupyter environment, please rerun this cell to show the HTML representation or trust the notebook. <br />On GitHub, the HTML representation is unable to render, please try loading this page with nbviewer.org.</b></div><div class=\"sk-container\" hidden><div class=\"sk-item\"><div class=\"sk-estimator fitted sk-toggleable\"><input class=\"sk-toggleable__control sk-hidden--visually\" id=\"sk-estimator-id-1\" type=\"checkbox\" checked><label for=\"sk-estimator-id-1\" class=\"sk-toggleable__label fitted sk-toggleable__label-arrow fitted\">&nbsp;&nbsp;SVC<a class=\"sk-estimator-doc-link fitted\" rel=\"noreferrer\" target=\"_blank\" href=\"https://scikit-learn.org/1.4/modules/generated/sklearn.svm.SVC.html\">?<span>Documentation for SVC</span></a><span class=\"sk-estimator-doc-link fitted\">i<span>Fitted</span></span></label><div class=\"sk-toggleable__content fitted\"><pre>SVC(kernel=&#x27;linear&#x27;)</pre></div> </div></div></div></div>"
            ],
            "text/plain": [
              "SVC(kernel='linear')"
            ]
          },
          "execution_count": 34,
          "metadata": {},
          "output_type": "execute_result"
        }
      ],
      "source": [
        "# Initialize the SVM classifier\n",
        "svm_classifier = SVC(kernel='linear')  # You can try 'rbf', 'poly', or other kernels\n",
        "\n",
        "# Train the model on the training set\n",
        "svm_classifier.fit(x_val_svm_features, y_val_svm)"
      ]
    },
    {
      "cell_type": "code",
      "execution_count": 35,
      "metadata": {
        "id": "0tfS6gO0vbUI"
      },
      "outputs": [],
      "source": [
        "y_test_pred_svm = svm_classifier.predict(x_test_svm_features)\n",
        "y_val_pred_svm = svm_classifier.predict(X_val)\n"
      ]
    },
    {
      "cell_type": "code",
      "execution_count": 36,
      "metadata": {
        "colab": {
          "base_uri": "https://localhost:8080/"
        },
        "id": "e9n9CbhUYplg",
        "outputId": "451cf68c-9e57-45e6-f62b-e874ee0873a9"
      },
      "outputs": [
        {
          "name": "stdout",
          "output_type": "stream",
          "text": [
            "Validation Accuracy: 0.7959\n",
            "Validation Classification Report:\n",
            "               precision    recall  f1-score   support\n",
            "\n",
            "           0       0.82      0.93      0.87       836\n",
            "           1       0.67      0.41      0.51       291\n",
            "\n",
            "    accuracy                           0.80      1127\n",
            "   macro avg       0.75      0.67      0.69      1127\n",
            "weighted avg       0.78      0.80      0.78      1127\n",
            "\n",
            "Test Accuracy: 0.8048\n",
            "Test Classification Report:\n",
            "               precision    recall  f1-score   support\n",
            "\n",
            "           0       0.82      0.95      0.88      1052\n",
            "           1       0.71      0.39      0.50       357\n",
            "\n",
            "    accuracy                           0.80      1409\n",
            "   macro avg       0.76      0.67      0.69      1409\n",
            "weighted avg       0.79      0.80      0.78      1409\n",
            "\n"
          ]
        }
      ],
      "source": [
        "# Evaluate the model on the validation set\n",
        "val_accuracy = accuracy_score(y_val_svm, y_val_pred_svm)\n",
        "print(f\"Validation Accuracy: {val_accuracy:.4f}\")\n",
        "print(\"Validation Classification Report:\\n\", classification_report(y_val_svm, y_val_pred_svm))\n",
        "\n",
        "# Evaluate the model on the test set\n",
        "test_accuracy = accuracy_score(y_test_svm, y_test_pred_svm)\n",
        "print(f\"Test Accuracy: {test_accuracy:.4f}\")\n",
        "print(\"Test Classification Report:\\n\", classification_report(y_test_svm, y_test_pred_svm))"
      ]
    },
    {
      "cell_type": "code",
      "execution_count": 37,
      "metadata": {
        "colab": {
          "base_uri": "https://localhost:8080/",
          "height": 392
        },
        "id": "ScIA9GQVvjvH",
        "outputId": "2f75ddd9-1229-48ed-849f-af2c0eab5fd7"
      },
      "outputs": [
        {
          "data": {
            "image/png": "[encoded data removed]",
            "text/plain": [
              "<Figure size 500x400 with 2 Axes>"
            ]
          },
          "metadata": {},
          "output_type": "display_data"
        }
      ],
      "source": [
        "plt.figure(figsize=(5,4))\n",
        "sns.heatmap(confusion_matrix(y_test_svm, y_test_pred_svm),\n",
        "                annot=True,fmt = \"d\", cmap='Blues', linecolor=\"k\",linewidths=0.9, xticklabels=['Not Churn', 'Churn'], yticklabels=['Not Churn', 'Churn'])\n",
        "\n",
        "plt.title(\"SVM CONFUSION MATRIX\",fontsize=14)\n",
        "plt.show()"
      ]
    },
    {
      "cell_type": "markdown",
      "metadata": {},
      "source": [
        "comparing\n"
      ]
    },
    {
      "cell_type": "code",
      "execution_count": 41,
      "metadata": {},
      "outputs": [
        {
          "data": {
            "image/png": "[encoded data removed]",
            "text/plain": [
              "<Figure size 1000x600 with 1 Axes>"
            ]
          },
          "metadata": {},
          "output_type": "display_data"
        }
      ],
      "source": [
        "import numpy as np\n",
        "from sklearn.metrics import classification_report\n",
        "\n",
        "# Get classification reports for each model\n",
        "rf_report = classification_report(y_val, y_val_pred, output_dict=True)\n",
        "lr_report = classification_report(y_val_lr, grid_search_lr.best_estimator_.predict(x_val_lr_features), output_dict=True)\n",
        "svm_report = classification_report(y_val_svm, svm_classifier.predict(x_val_svm_features), output_dict=True)\n",
        "\n",
        "# Extract accuracy, precision, and recall from the reports\n",
        "metrics = ['precision', 'recall', 'accuracy']\n",
        "\n",
        "# Prepare a list to store the data\n",
        "model_metrics = {\n",
        "    'Random Forest': [rf_report['weighted avg']['precision'], rf_report['weighted avg']['recall'], rf_report['accuracy']],\n",
        "    'Logistic Regression': [lr_report['weighted avg']['precision'], lr_report['weighted avg']['recall'], lr_report['accuracy']],\n",
        "    'SVM': [svm_report['weighted avg']['precision'], svm_report['weighted avg']['recall'], svm_report['accuracy']]\n",
        "}\n",
        "\n",
        "# Convert to a dataframe for easier plotting\n",
        "import pandas as pd\n",
        "metrics_df = pd.DataFrame(model_metrics, index=metrics)\n",
        "\n",
        "# Plot the metrics with a narrower y-axis and show percentages\n",
        "ax = metrics_df.plot(kind='bar', figsize=(10, 6))\n",
        "\n",
        "# Add title and labels\n",
        "plt.title('Comparison of Precision, Recall, and Accuracy for Each Model')\n",
        "plt.ylabel('Score')\n",
        "plt.xticks(rotation=0)\n",
        "plt.ylim(0.6, 1)  # Adjust the y-axis range to be between 0.6 and 1\n",
        "plt.legend(title='Models')\n",
        "\n",
        "# Annotate each bar with the percentage value\n",
        "for p in ax.patches:\n",
        "    ax.annotate(f'{p.get_height() * 100:.1f}%',   # Convert to percentage\n",
        "                (p.get_x() + p.get_width() / 2., p.get_height()),   # Position the label\n",
        "                ha='center', va='baseline', fontsize=10, color='black', xytext=(0, 5),\n",
        "                textcoords='offset points')\n",
        "\n",
        "plt.show()\n"
      ]
    },
    {
      "cell_type": "code",
      "execution_count": 47,
      "metadata": {},
      "outputs": [
        {
          "data": {
            "image/png": "[encoded data removed]",
            "text/plain": [
              "<Figure size 1000x600 with 1 Axes>"
            ]
          },
          "metadata": {},
          "output_type": "display_data"
        }
      ],
      "source": [
        "# Get classification reports for each model on the test set\n",
        "rf_test_report = classification_report(y_test, y_test_pred, output_dict=True)\n",
        "lr_test_report = classification_report(y_test_lr, y_test_lr_pred, output_dict=True)\n",
        "svm_test_report = classification_report(y_test_svm, svm_classifier.predict(x_test_svm_features), output_dict=True)\n",
        "\n",
        "# Extract accuracy, precision, and recall for test set from the reports\n",
        "metrics = ['precision', 'recall', 'accuracy']\n",
        "\n",
        "# Prepare a list to store the test data\n",
        "test_model_metrics = {\n",
        "    'Random Forest': [rf_test_report['weighted avg']['precision'], rf_test_report['weighted avg']['recall'], rf_test_report['accuracy']],\n",
        "    'Logistic Regression': [lr_test_report['weighted avg']['precision'], lr_test_report['weighted avg']['recall'], lr_test_report['accuracy']],\n",
        "    'SVM': [svm_test_report['weighted avg']['precision'], svm_test_report['weighted avg']['recall'], svm_test_report['accuracy']]\n",
        "}\n",
        "\n",
        "# Convert to a dataframe for easier plotting\n",
        "import pandas as pd\n",
        "test_metrics_df = pd.DataFrame(test_model_metrics, index=metrics)\n",
        "\n",
        "# Plot the test metrics with a narrower y-axis and show percentages\n",
        "ax = test_metrics_df.plot(kind='bar', figsize=(10, 6))\n",
        "\n",
        "# Add title and labels\n",
        "plt.title('Comparison of Precision, Recall, and Accuracy for Each Model on Test Set')\n",
        "plt.ylabel('Score')\n",
        "plt.xticks(rotation=0)\n",
        "plt.ylim(0.6, 1)  # Adjust the y-axis range to be between 0.6 and 1\n",
        "plt.legend(title='Models')\n",
        "\n",
        "# Annotate each bar with the percentage value\n",
        "for p in ax.patches:\n",
        "    ax.annotate(f'{p.get_height() * 100:.1f}%',   # Convert to percentage\n",
        "                (p.get_x() + p.get_width() / 2., p.get_height()),   # Position the label\n",
        "                ha='center', va='baseline', fontsize=10, color='black', xytext=(0, 5),\n",
        "                textcoords='offset points')\n",
        "\n",
        "plt.show()\n"
      ]
    },
    {
      "cell_type": "code",
      "execution_count": null,
      "metadata": {
        "colab": {
          "base_uri": "https://localhost:8080/"
        },
        "id": "bgQiybSNvpJB",
        "outputId": "add8f240-8cdf-4f5c-f625-4e27fb96620e"
      },
      "outputs": [],
      "source": [
        "from sklearn.svm import SVC\n",
        "from sklearn.model_selection import cross_val_score\n",
        "from sklearn.metrics import accuracy_score\n",
        "\n",
        "# Assuming X_train, y_train, X_test, and y_test are already defined\n",
        "\n",
        "# Initialize the SVM classifier\n",
        "svm_classifier = SVC(random_state=50)\n",
        "\n",
        "# Perform 5-fold cross-validation on the training data\n",
        "cv_scores = cross_val_score(svm_classifier, x_train_svm_features, y_train_svm, cv=5, scoring='accuracy')\n",
        "\n",
        "# Output the cross-validation scores and their mean\n",
        "print(\"Cross-Validation Scores:\", cv_scores)\n",
        "print(f\"Mean Cross-Validation Accuracy: {cv_scores.mean():.2f}\")\n",
        "\n",
        "# Train the model on the entire training data after cross-validation\n",
        "svm_classifier.fit(x_train_svm_features, y_train_svm)\n",
        "\n",
        "# Test the model on the test set\n",
        "y_test_pred = svm_classifier.predict(x_test_svm_features)\n",
        "test_accuracy = accuracy_score(y_test_svm, y_test_pred_svm)\n",
        "print(f\"Test Accuracy: {test_accuracy:.2f}\")"
      ]
    },
    {
      "cell_type": "code",
      "execution_count": null,
      "metadata": {
        "colab": {
          "base_uri": "https://localhost:8080/",
          "height": 564
        },
        "id": "ic23mh2BvrQ2",
        "outputId": "df6faa9c-e133-475b-f5d6-86c0e3d598f1"
      },
      "outputs": [],
      "source": [
        "plt.figure(figsize=(8, 6))\n",
        "plt.plot(range(1, len(cv_scores) + 1), cv_scores, marker='o', linestyle='-', color='b')\n",
        "\n",
        "plt.title('Cross-Validation Accuracy per svm')\n",
        "plt.xlabel('Fold Number')\n",
        "plt.ylabel('Accuracy')\n",
        "plt.grid(True)\n",
        "plt.show()"
      ]
    }
  ],
  "metadata": {
    "colab": {
      "provenance": []
    },
    "kernelspec": {
      "display_name": "base",
      "language": "python",
      "name": "python3"
    },
    "language_info": {
      "codemirror_mode": {
        "name": "ipython",
        "version": 3
      },
      "file_extension": ".py",
      "mimetype": "text/x-python",
      "name": "python",
      "nbconvert_exporter": "python",
      "pygments_lexer": "ipython3",
      "version": "3.11.7"
    }
  },
  "nbformat": 4,
  "nbformat_minor": 0
}
